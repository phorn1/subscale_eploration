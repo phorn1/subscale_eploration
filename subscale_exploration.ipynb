{
 "cells": [
  {
   "cell_type": "code",
   "execution_count": 2,
   "outputs": [],
   "source": [
    "import pandas as pd\n",
    "import numpy as np\n",
    "import os\n",
    "import subprocess\n",
    "import shutil\n",
    "import generator\n",
    "import json\n",
    "from pathlib import Path\n",
    "import sklearn.cluster\n",
    "from sklearn.metrics import f1_score"
   ],
   "metadata": {
    "collapsed": false,
    "pycharm": {
     "name": "#%%\n"
    }
   }
  },
  {
   "cell_type": "code",
   "execution_count": 2,
   "outputs": [
    {
     "name": "stdout",
     "output_type": "stream",
     "text": [
      "Duration for creating the database: 72ms\n",
      "Duration for calculating the density chunks: 11ms\n",
      "Slice number: 8, size of collision map: 42\n",
      "Slice number: 0, size of collision map: 2\n",
      "Duration for calculating subspaces in slice 0: 13ms\n",
      "Slice number: 1, size of collision map: 13\n",
      "Duration for calculating subspaces in slice 1: 4ms\n",
      "Slice number: 2, size of collision map: 7\n",
      "Duration for calculating subspaces in slice 2: 2ms\n",
      "Slice number: 3, size of collision map: 16\n",
      "Duration for calculating subspaces in slice 3: 2ms\n",
      "Slice number: 4, size of collision map: 16\n",
      "Duration for calculating subspaces in slice 4: 2ms\n",
      "Slice number: 5, size of collision map: 25\n",
      "Duration for calculating subspaces in slice 5: 1ms\n",
      "Slice number: 6, size of collision map: 28\n",
      "Duration for calculating subspaces in slice 6: 2ms\n",
      "Slice number: 7, size of collision map: 17\n",
      "Duration for calculating subspaces in slice 7: 2ms\n",
      "Slice number: 8, size of collision map: 18\n",
      "Duration for calculating subspaces in slice 8: 2ms\n",
      "Slice number: 9, size of collision map: 27\n",
      "Duration for calculating subspaces in slice 9: 2ms\n",
      "Slice number: 10, size of collision map: 15\n",
      "Duration for calculating subspaces in slice 10: 1ms\n",
      "Slice number: 11, size of collision map: 3\n",
      "Duration for calculating subspaces in slice 11: 1ms\n",
      "Slice number: 12, size of collision map: 4\n",
      "Duration for calculating subspaces in slice 12: 0ms\n",
      "Slice number: 13, size of collision map: 3\n",
      "Duration for calculating subspaces in slice 13: 1ms\n",
      "Slice number: 14, size of collision map: 3\n",
      "Duration for calculating subspaces in slice 14: 1ms\n",
      "Slice number: 15, size of collision map: 1\n",
      "Duration for calculating subspaces in slice 15: 1ms\n",
      "Duration for the whole SubScale algorithm: 123ms\n",
      "Duration for the whole process: 205ms\n"
     ]
    }
   ],
   "source": [
    "dirpath = Path('out')\n",
    "if dirpath.exists() and dirpath.is_dir():\n",
    "    shutil.rmtree(dirpath)\n",
    "\n",
    "SAMPLEFILE = '6'\n",
    "GERMAN_FILE_FORMATTING = 'true'\n",
    "EPSILON = '0.5'\n",
    "MINPTS = '4'\n",
    "SPLITTING_SIZE = '16'\n",
    "EVENLY_SIZED_SLICES = 'true'\n",
    "DBSCAN = 'false'\n",
    "p = subprocess.Popen(['java',\n",
    "                      '-jar',\n",
    "                      'SubScaleExtended.jar',\n",
    "                      SAMPLEFILE,\n",
    "                      GERMAN_FILE_FORMATTING,\n",
    "                      EPSILON,\n",
    "                      MINPTS,\n",
    "                      SPLITTING_SIZE,\n",
    "                      EVENLY_SIZED_SLICES,\n",
    "                      DBSCAN],\n",
    "                     stdout=subprocess.PIPE,\n",
    "                     stderr=subprocess.STDOUT)\n",
    "for line in p.stdout:\n",
    "    print(str(line, \"utf-8\").replace('\\r\\n', ''))"
   ],
   "metadata": {
    "collapsed": false,
    "pycharm": {
     "name": "#%%\n"
    }
   }
  },
  {
   "cell_type": "code",
   "execution_count": 1,
   "outputs": [
    {
     "ename": "NameError",
     "evalue": "name 'generator' is not defined",
     "output_type": "error",
     "traceback": [
      "\u001B[1;31m---------------------------------------------------------------------------\u001B[0m",
      "\u001B[1;31mNameError\u001B[0m                                 Traceback (most recent call last)",
      "Input \u001B[1;32mIn [1]\u001B[0m, in \u001B[0;36m<cell line: 1>\u001B[1;34m()\u001B[0m\n\u001B[1;32m----> 1\u001B[0m DB, labels \u001B[38;5;241m=\u001B[39m \u001B[43mgenerator\u001B[49m\u001B[38;5;241m.\u001B[39mgenerate_subspacedata(\u001B[38;5;241m100\u001B[39m, \u001B[38;5;241m100\u001B[39m, \u001B[38;5;28;01mFalse\u001B[39;00m, [[\u001B[38;5;241m5\u001B[39m, \u001B[38;5;241m4\u001B[39m, \u001B[38;5;241m1\u001B[39m, \u001B[38;5;241m0.001\u001B[39m],\n\u001B[0;32m      2\u001B[0m                                                               [\u001B[38;5;241m5\u001B[39m, \u001B[38;5;241m6\u001B[39m, \u001B[38;5;241m1\u001B[39m, \u001B[38;5;241m0.001\u001B[39m],\n\u001B[0;32m      3\u001B[0m                                                               [\u001B[38;5;241m5\u001B[39m, \u001B[38;5;241m9\u001B[39m, \u001B[38;5;241m1\u001B[39m, \u001B[38;5;241m0.001\u001B[39m],\n\u001B[0;32m      4\u001B[0m                                                               [\u001B[38;5;241m5\u001B[39m, \u001B[38;5;241m9\u001B[39m, \u001B[38;5;241m1\u001B[39m, \u001B[38;5;241m0.001\u001B[39m],\n\u001B[0;32m      5\u001B[0m                                                               [\u001B[38;5;241m5\u001B[39m, \u001B[38;5;241m9\u001B[39m, \u001B[38;5;241m1\u001B[39m, \u001B[38;5;241m0.001\u001B[39m]])\n\u001B[0;32m      6\u001B[0m np\u001B[38;5;241m.\u001B[39msavetxt(\u001B[38;5;124m\"\u001B[39m\u001B[38;5;124mres/sample6.csv\u001B[39m\u001B[38;5;124m\"\u001B[39m, DB, delimiter\u001B[38;5;241m=\u001B[39m\u001B[38;5;124m\"\u001B[39m\u001B[38;5;124m,\u001B[39m\u001B[38;5;124m\"\u001B[39m, fmt\u001B[38;5;241m=\u001B[39m\u001B[38;5;124m'\u001B[39m\u001B[38;5;132;01m%1.8f\u001B[39;00m\u001B[38;5;124m'\u001B[39m)\n",
      "\u001B[1;31mNameError\u001B[0m: name 'generator' is not defined"
     ]
    }
   ],
   "source": [
    "DB, labels = generator.generate_subspacedata(100, 100, False, [[5, 4, 1, 0.001],\n",
    "                                                              [5, 6, 1, 0.001],\n",
    "                                                              [5, 9, 1, 0.001],\n",
    "                                                              [5, 9, 1, 0.001],\n",
    "                                                              [5, 9, 1, 0.001]])\n",
    "np.savetxt(\"res/sample6.csv\", DB, delimiter=\",\", fmt='%1.8f')"
   ],
   "metadata": {
    "collapsed": false,
    "pycharm": {
     "name": "#%%\n"
    }
   }
  },
  {
   "cell_type": "code",
   "execution_count": 5,
   "outputs": [],
   "source": [
    "# Potential subspaces will be searched for clusters using the dbscan algorithm\n",
    "\n",
    "with open(\"out/results/clusters.csv\", mode=\"w\") as output_file:\n",
    "    with os.scandir(\"out/results/subspaces\") as it:\n",
    "        for entry in it:\n",
    "            if os.path.getsize(entry.path) > 0: # Check for empty file sometimes generated due to bug in SubScaleExtended.jar\n",
    "                df = pd.read_csv(entry.path, header=None, delimiter=\"-\")\n",
    "                for _, row in df.iterrows():\n",
    "                    points_indexes = json.loads(row[1])\n",
    "                    dimensions = json.loads(row[0])\n",
    "                    S = DB[points_indexes][:,dimensions]\n",
    "                    clustering = sklearn.cluster.DBSCAN(eps=0.004).fit(S)\n",
    "\n",
    "                    # Converting dbscan result in clusters.csv file-format\n",
    "                    unique_labels = set(clustering.labels_)\n",
    "                    for k in unique_labels:\n",
    "                        U = np.array(points_indexes)[clustering.labels_ == k]\n",
    "                        output_file.write(str(dimensions) + \"-\" + str(U) + \"\\n\")"
   ],
   "metadata": {
    "collapsed": false,
    "pycharm": {
     "name": "#%%\n"
    }
   }
  },
  {
   "cell_type": "code",
   "execution_count": null,
   "outputs": [],
   "source": [
    "# F1-Measure\n",
    "pd.read_csv(\"out/results/clusters.csv\", header=None, delimiter=\"-\")\n",
    "for _, row in df.iterrows():\n",
    "    points_indexes = json.loads(row[1])\n",
    "    dimensions = json.loads(row[0])\n",
    "    S = DB[points_indexes][:,dimensions]\n",
    "\n"
   ],
   "metadata": {
    "collapsed": false,
    "pycharm": {
     "name": "#%%\n"
    }
   }
  },
  {
   "cell_type": "code",
   "execution_count": 7,
   "outputs": [
    {
     "data": {
      "text/plain": "array([[1., 1., 1., ..., 0., 0., 0.],\n       [1., 1., 1., ..., 0., 0., 0.],\n       [1., 1., 1., ..., 0., 0., 0.],\n       ...,\n       [0., 0., 0., ..., 0., 0., 0.],\n       [0., 0., 0., ..., 0., 0., 0.],\n       [0., 0., 0., ..., 0., 0., 0.]])"
     },
     "execution_count": 7,
     "metadata": {},
     "output_type": "execute_result"
    }
   ],
   "source": [
    "# https://www.ipd.kit.edu/~muellere/publications/BTW2011.pdf Erklärung zu f1 measure\n",
    "labels"
   ],
   "metadata": {
    "collapsed": false,
    "pycharm": {
     "name": "#%%\n"
    }
   }
  }
 ],
 "metadata": {
  "kernelspec": {
   "display_name": "Python 3",
   "language": "python",
   "name": "python3"
  },
  "language_info": {
   "codemirror_mode": {
    "name": "ipython",
    "version": 2
   },
   "file_extension": ".py",
   "mimetype": "text/x-python",
   "name": "python",
   "nbconvert_exporter": "python",
   "pygments_lexer": "ipython2",
   "version": "2.7.6"
  }
 },
 "nbformat": 4,
 "nbformat_minor": 0
}