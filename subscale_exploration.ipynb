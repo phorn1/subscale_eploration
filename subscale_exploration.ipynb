{
 "cells": [
  {
   "cell_type": "code",
   "execution_count": 1,
   "outputs": [],
   "source": [
    "import time\n",
    "import winsound\n",
    "import pickle\n",
    "import itertools\n",
    "import pandas as pd\n",
    "\n",
    "from subscale_explorer import SubscaleExplorer"
   ],
   "metadata": {
    "collapsed": false,
    "pycharm": {
     "name": "#%%\n"
    }
   }
  },
  {
   "cell_type": "code",
   "execution_count": 2,
   "outputs": [],
   "source": [
    "def explore(**setting):\n",
    "    sub = SubscaleExplorer()\n",
    "    stats = []\n",
    "    for n, d in itertools.product(settings[\"n\"], settings[\"d\"]):\n",
    "        sub.generate_database(n=n, d=d, c=settings[\"c\"],\n",
    "                      sub_n=settings[\"sub_n\"], sub_d=settings[\"sub_d\"], std=settings[\"std\"])\n",
    "        for eps_subscale, minpts_subscale in itertools.product(settings[\"eps_subscale\"], settings[\"minpts_subscale\"]):\n",
    "            ts = time.time()\n",
    "            sub.subscale(epsilon=eps_subscale, minpts=minpts_subscale)\n",
    "            winsound.Beep(220, 100)\n",
    "            t1 = time.time() - ts\n",
    "            for eps_dbscan, minpts_dbscan, adj in itertools.product(settings[\"eps_dbscan\"],\n",
    "                                                                    settings[\"minpts_dbscan\"],\n",
    "                                                                    settings[\"adj\"]):\n",
    "                ts = time.time()\n",
    "                sub.dbscan(eps=eps_dbscan, min_samples=minpts_dbscan, adjust_epsilon=settings[\"adj\"])\n",
    "                winsound.Beep(440, 100)\n",
    "                t2 = time.time() - ts\n",
    "                scores = {metric:score for (metric, score) in zip(settings[\"metrics\"],\n",
    "                                                         [sub.score(metric) for metric in settings[\"metrics\"]])}\n",
    "                winsound.Beep(880, 100)\n",
    "                tmp = { \"eps_subscale\": eps_subscale, \"minpts_subscale\": minpts_subscale,\n",
    "                       \"eps_dbscan\": eps_dbscan, \"minpts_dbscan\": minpts_dbscan, \"n\":n, \"d\":d, \"adj\":adj,\n",
    "                        \"scores\": scores, \"duration_subscale\": t1, \"duration_dbscan\":t2,}\n",
    "                print(tmp)\n",
    "                stats.append(tmp)\n",
    "    result = {\"settings\": settings, \"stats\": stats}\n",
    "    return result"
   ],
   "metadata": {
    "collapsed": false,
    "pycharm": {
     "name": "#%%\n"
    }
   }
  },
  {
   "cell_type": "code",
   "execution_count": null,
   "outputs": [],
   "source": [
    "settings =  {\"n\":[1000], \"d\":[200], \"c\":10, \"sub_n\":50, \"sub_d\":10, \"std\":0.01,\n",
    "             \"eps_subscale\": [0.015, 0.3, 0.6], \"minpts_subscale\":[2],\n",
    "             \"eps_dbscan\":[0.01, 0.1, 1], \"minpts_dbscan\":[5], \"adj\":[True],\n",
    "             \"metrics\": [\"ce\"]}\n",
    "res = explore(**settings)\n",
    "pd.DataFrame(res[\"stats\"])"
   ],
   "metadata": {
    "collapsed": false,
    "pycharm": {
     "name": "#%%\n",
     "is_executing": true
    }
   }
  },
  {
   "cell_type": "code",
   "execution_count": 18,
   "outputs": [
    {
     "name": "stdout",
     "output_type": "stream",
     "text": [
      "{'eps_subscale': 0.03, 'minpts_subscale': 2, 'eps_dbscan': 0.03, 'minpts_dbscan': 2, 'n': 1000, 'd': 200, 'adj': True, 'scores': {'ce': 0.227894257064722}, 'duration_subscale': 0.9376342296600342, 'duration_dbscan': 0.38695526123046875}\n",
      "{'eps_subscale': 0.03, 'minpts_subscale': 2, 'eps_dbscan': 0.03, 'minpts_dbscan': 3, 'n': 1000, 'd': 200, 'adj': True, 'scores': {'ce': 1.0}, 'duration_subscale': 0.9376342296600342, 'duration_dbscan': 0.36999988555908203}\n",
      "{'eps_subscale': 0.03, 'minpts_subscale': 2, 'eps_dbscan': 0.03, 'minpts_dbscan': 4, 'n': 1000, 'd': 200, 'adj': True, 'scores': {'ce': 1.0}, 'duration_subscale': 0.9376342296600342, 'duration_dbscan': 0.36809778213500977}\n",
      "{'eps_subscale': 0.03, 'minpts_subscale': 2, 'eps_dbscan': 0.03, 'minpts_dbscan': 5, 'n': 1000, 'd': 200, 'adj': True, 'scores': {'ce': 1.0}, 'duration_subscale': 0.9376342296600342, 'duration_dbscan': 0.36300158500671387}\n",
      "{'eps_subscale': 0.03, 'minpts_subscale': 3, 'eps_dbscan': 0.03, 'minpts_dbscan': 2, 'n': 1000, 'd': 200, 'adj': True, 'scores': {'ce': 1.0}, 'duration_subscale': 0.6880316734313965, 'duration_dbscan': 0.14898371696472168}\n",
      "{'eps_subscale': 0.03, 'minpts_subscale': 3, 'eps_dbscan': 0.03, 'minpts_dbscan': 3, 'n': 1000, 'd': 200, 'adj': True, 'scores': {'ce': 1.0}, 'duration_subscale': 0.6880316734313965, 'duration_dbscan': 0.13899922370910645}\n",
      "{'eps_subscale': 0.03, 'minpts_subscale': 3, 'eps_dbscan': 0.03, 'minpts_dbscan': 4, 'n': 1000, 'd': 200, 'adj': True, 'scores': {'ce': 1.0}, 'duration_subscale': 0.6880316734313965, 'duration_dbscan': 0.13499975204467773}\n",
      "{'eps_subscale': 0.03, 'minpts_subscale': 3, 'eps_dbscan': 0.03, 'minpts_dbscan': 5, 'n': 1000, 'd': 200, 'adj': True, 'scores': {'ce': 1.0}, 'duration_subscale': 0.6880316734313965, 'duration_dbscan': 0.13486123085021973}\n",
      "{'eps_subscale': 0.03, 'minpts_subscale': 4, 'eps_dbscan': 0.03, 'minpts_dbscan': 2, 'n': 1000, 'd': 200, 'adj': True, 'scores': {'ce': 0.96}, 'duration_subscale': 0.8731405735015869, 'duration_dbscan': 0.19262123107910156}\n",
      "{'eps_subscale': 0.03, 'minpts_subscale': 4, 'eps_dbscan': 0.03, 'minpts_dbscan': 3, 'n': 1000, 'd': 200, 'adj': True, 'scores': {'ce': 0.96}, 'duration_subscale': 0.8731405735015869, 'duration_dbscan': 0.16307806968688965}\n",
      "{'eps_subscale': 0.03, 'minpts_subscale': 4, 'eps_dbscan': 0.03, 'minpts_dbscan': 4, 'n': 1000, 'd': 200, 'adj': True, 'scores': {'ce': 0.96}, 'duration_subscale': 0.8731405735015869, 'duration_dbscan': 0.1760241985321045}\n",
      "{'eps_subscale': 0.03, 'minpts_subscale': 4, 'eps_dbscan': 0.03, 'minpts_dbscan': 5, 'n': 1000, 'd': 200, 'adj': True, 'scores': {'ce': 0.96}, 'duration_subscale': 0.8731405735015869, 'duration_dbscan': 0.16601848602294922}\n",
      "{'eps_subscale': 0.03, 'minpts_subscale': 5, 'eps_dbscan': 0.03, 'minpts_dbscan': 2, 'n': 1000, 'd': 200, 'adj': True, 'scores': {'ce': 0.893}, 'duration_subscale': 0.8560492992401123, 'duration_dbscan': 0.2270183563232422}\n",
      "{'eps_subscale': 0.03, 'minpts_subscale': 5, 'eps_dbscan': 0.03, 'minpts_dbscan': 3, 'n': 1000, 'd': 200, 'adj': True, 'scores': {'ce': 0.893}, 'duration_subscale': 0.8560492992401123, 'duration_dbscan': 0.19801855087280273}\n",
      "{'eps_subscale': 0.03, 'minpts_subscale': 5, 'eps_dbscan': 0.03, 'minpts_dbscan': 4, 'n': 1000, 'd': 200, 'adj': True, 'scores': {'ce': 0.893}, 'duration_subscale': 0.8560492992401123, 'duration_dbscan': 0.1960010528564453}\n",
      "{'eps_subscale': 0.03, 'minpts_subscale': 5, 'eps_dbscan': 0.03, 'minpts_dbscan': 5, 'n': 1000, 'd': 200, 'adj': True, 'scores': {'ce': 0.893}, 'duration_subscale': 0.8560492992401123, 'duration_dbscan': 0.1920182704925537}\n"
     ]
    },
    {
     "data": {
      "text/plain": "    eps_subscale  minpts_subscale  eps_dbscan  minpts_dbscan     n    d   adj  \\\n0           0.03                2        0.03              2  1000  200  True   \n1           0.03                2        0.03              3  1000  200  True   \n2           0.03                2        0.03              4  1000  200  True   \n3           0.03                2        0.03              5  1000  200  True   \n4           0.03                3        0.03              2  1000  200  True   \n5           0.03                3        0.03              3  1000  200  True   \n6           0.03                3        0.03              4  1000  200  True   \n7           0.03                3        0.03              5  1000  200  True   \n8           0.03                4        0.03              2  1000  200  True   \n9           0.03                4        0.03              3  1000  200  True   \n10          0.03                4        0.03              4  1000  200  True   \n11          0.03                4        0.03              5  1000  200  True   \n12          0.03                5        0.03              2  1000  200  True   \n13          0.03                5        0.03              3  1000  200  True   \n14          0.03                5        0.03              4  1000  200  True   \n15          0.03                5        0.03              5  1000  200  True   \n\n                       scores  duration_subscale  duration_dbscan  \n0   {'ce': 0.227894257064722}           0.937634         0.386955  \n1                 {'ce': 1.0}           0.937634         0.370000  \n2                 {'ce': 1.0}           0.937634         0.368098  \n3                 {'ce': 1.0}           0.937634         0.363002  \n4                 {'ce': 1.0}           0.688032         0.148984  \n5                 {'ce': 1.0}           0.688032         0.138999  \n6                 {'ce': 1.0}           0.688032         0.135000  \n7                 {'ce': 1.0}           0.688032         0.134861  \n8                {'ce': 0.96}           0.873141         0.192621  \n9                {'ce': 0.96}           0.873141         0.163078  \n10               {'ce': 0.96}           0.873141         0.176024  \n11               {'ce': 0.96}           0.873141         0.166018  \n12              {'ce': 0.893}           0.856049         0.227018  \n13              {'ce': 0.893}           0.856049         0.198019  \n14              {'ce': 0.893}           0.856049         0.196001  \n15              {'ce': 0.893}           0.856049         0.192018  ",
      "text/html": "<div>\n<style scoped>\n    .dataframe tbody tr th:only-of-type {\n        vertical-align: middle;\n    }\n\n    .dataframe tbody tr th {\n        vertical-align: top;\n    }\n\n    .dataframe thead th {\n        text-align: right;\n    }\n</style>\n<table border=\"1\" class=\"dataframe\">\n  <thead>\n    <tr style=\"text-align: right;\">\n      <th></th>\n      <th>eps_subscale</th>\n      <th>minpts_subscale</th>\n      <th>eps_dbscan</th>\n      <th>minpts_dbscan</th>\n      <th>n</th>\n      <th>d</th>\n      <th>adj</th>\n      <th>scores</th>\n      <th>duration_subscale</th>\n      <th>duration_dbscan</th>\n    </tr>\n  </thead>\n  <tbody>\n    <tr>\n      <th>0</th>\n      <td>0.03</td>\n      <td>2</td>\n      <td>0.03</td>\n      <td>2</td>\n      <td>1000</td>\n      <td>200</td>\n      <td>True</td>\n      <td>{'ce': 0.227894257064722}</td>\n      <td>0.937634</td>\n      <td>0.386955</td>\n    </tr>\n    <tr>\n      <th>1</th>\n      <td>0.03</td>\n      <td>2</td>\n      <td>0.03</td>\n      <td>3</td>\n      <td>1000</td>\n      <td>200</td>\n      <td>True</td>\n      <td>{'ce': 1.0}</td>\n      <td>0.937634</td>\n      <td>0.370000</td>\n    </tr>\n    <tr>\n      <th>2</th>\n      <td>0.03</td>\n      <td>2</td>\n      <td>0.03</td>\n      <td>4</td>\n      <td>1000</td>\n      <td>200</td>\n      <td>True</td>\n      <td>{'ce': 1.0}</td>\n      <td>0.937634</td>\n      <td>0.368098</td>\n    </tr>\n    <tr>\n      <th>3</th>\n      <td>0.03</td>\n      <td>2</td>\n      <td>0.03</td>\n      <td>5</td>\n      <td>1000</td>\n      <td>200</td>\n      <td>True</td>\n      <td>{'ce': 1.0}</td>\n      <td>0.937634</td>\n      <td>0.363002</td>\n    </tr>\n    <tr>\n      <th>4</th>\n      <td>0.03</td>\n      <td>3</td>\n      <td>0.03</td>\n      <td>2</td>\n      <td>1000</td>\n      <td>200</td>\n      <td>True</td>\n      <td>{'ce': 1.0}</td>\n      <td>0.688032</td>\n      <td>0.148984</td>\n    </tr>\n    <tr>\n      <th>5</th>\n      <td>0.03</td>\n      <td>3</td>\n      <td>0.03</td>\n      <td>3</td>\n      <td>1000</td>\n      <td>200</td>\n      <td>True</td>\n      <td>{'ce': 1.0}</td>\n      <td>0.688032</td>\n      <td>0.138999</td>\n    </tr>\n    <tr>\n      <th>6</th>\n      <td>0.03</td>\n      <td>3</td>\n      <td>0.03</td>\n      <td>4</td>\n      <td>1000</td>\n      <td>200</td>\n      <td>True</td>\n      <td>{'ce': 1.0}</td>\n      <td>0.688032</td>\n      <td>0.135000</td>\n    </tr>\n    <tr>\n      <th>7</th>\n      <td>0.03</td>\n      <td>3</td>\n      <td>0.03</td>\n      <td>5</td>\n      <td>1000</td>\n      <td>200</td>\n      <td>True</td>\n      <td>{'ce': 1.0}</td>\n      <td>0.688032</td>\n      <td>0.134861</td>\n    </tr>\n    <tr>\n      <th>8</th>\n      <td>0.03</td>\n      <td>4</td>\n      <td>0.03</td>\n      <td>2</td>\n      <td>1000</td>\n      <td>200</td>\n      <td>True</td>\n      <td>{'ce': 0.96}</td>\n      <td>0.873141</td>\n      <td>0.192621</td>\n    </tr>\n    <tr>\n      <th>9</th>\n      <td>0.03</td>\n      <td>4</td>\n      <td>0.03</td>\n      <td>3</td>\n      <td>1000</td>\n      <td>200</td>\n      <td>True</td>\n      <td>{'ce': 0.96}</td>\n      <td>0.873141</td>\n      <td>0.163078</td>\n    </tr>\n    <tr>\n      <th>10</th>\n      <td>0.03</td>\n      <td>4</td>\n      <td>0.03</td>\n      <td>4</td>\n      <td>1000</td>\n      <td>200</td>\n      <td>True</td>\n      <td>{'ce': 0.96}</td>\n      <td>0.873141</td>\n      <td>0.176024</td>\n    </tr>\n    <tr>\n      <th>11</th>\n      <td>0.03</td>\n      <td>4</td>\n      <td>0.03</td>\n      <td>5</td>\n      <td>1000</td>\n      <td>200</td>\n      <td>True</td>\n      <td>{'ce': 0.96}</td>\n      <td>0.873141</td>\n      <td>0.166018</td>\n    </tr>\n    <tr>\n      <th>12</th>\n      <td>0.03</td>\n      <td>5</td>\n      <td>0.03</td>\n      <td>2</td>\n      <td>1000</td>\n      <td>200</td>\n      <td>True</td>\n      <td>{'ce': 0.893}</td>\n      <td>0.856049</td>\n      <td>0.227018</td>\n    </tr>\n    <tr>\n      <th>13</th>\n      <td>0.03</td>\n      <td>5</td>\n      <td>0.03</td>\n      <td>3</td>\n      <td>1000</td>\n      <td>200</td>\n      <td>True</td>\n      <td>{'ce': 0.893}</td>\n      <td>0.856049</td>\n      <td>0.198019</td>\n    </tr>\n    <tr>\n      <th>14</th>\n      <td>0.03</td>\n      <td>5</td>\n      <td>0.03</td>\n      <td>4</td>\n      <td>1000</td>\n      <td>200</td>\n      <td>True</td>\n      <td>{'ce': 0.893}</td>\n      <td>0.856049</td>\n      <td>0.196001</td>\n    </tr>\n    <tr>\n      <th>15</th>\n      <td>0.03</td>\n      <td>5</td>\n      <td>0.03</td>\n      <td>5</td>\n      <td>1000</td>\n      <td>200</td>\n      <td>True</td>\n      <td>{'ce': 0.893}</td>\n      <td>0.856049</td>\n      <td>0.192018</td>\n    </tr>\n  </tbody>\n</table>\n</div>"
     },
     "execution_count": 18,
     "metadata": {},
     "output_type": "execute_result"
    }
   ],
   "source": [
    "settings =  {\"n\":[1000], \"d\":[200], \"c\":10, \"sub_n\":10, \"sub_d\":10, \"std\":0.01,\n",
    "             \"eps_subscale\": [0.03], \"minpts_subscale\":[2,3,4,5],\n",
    "             \"eps_dbscan\":[0.03], \"minpts_dbscan\":[2,3,4,5], \"adj\":[True],\n",
    "             \"metrics\": [\"ce\"]}\n",
    "res = explore(**settings)\n",
    "pd.DataFrame(res[\"stats\"])"
   ],
   "metadata": {
    "collapsed": false,
    "pycharm": {
     "name": "#%%\n"
    }
   }
  },
  {
   "cell_type": "code",
   "execution_count": 4,
   "outputs": [
    {
     "name": "stdout",
     "output_type": "stream",
     "text": [
      "{'eps_subscale': 0.03, 'minpts_subscale': 5, 'eps_dbscan': 0.03, 'minpts_dbscan': 2, 'n': 1000, 'd': 200, 'adj': False, 'scores': {'ce': 0.9121756487025948}, 'duration_subscale': 1.0342504978179932, 'duration_dbscan': 0.22134065628051758}\n"
     ]
    },
    {
     "data": {
      "text/plain": "   eps_subscale  minpts_subscale  eps_dbscan  minpts_dbscan     n    d    adj  \\\n0          0.03                5        0.03              2  1000  200  False   \n\n                       scores  duration_subscale  duration_dbscan  \n0  {'ce': 0.9121756487025948}            1.03425         0.221341  ",
      "text/html": "<div>\n<style scoped>\n    .dataframe tbody tr th:only-of-type {\n        vertical-align: middle;\n    }\n\n    .dataframe tbody tr th {\n        vertical-align: top;\n    }\n\n    .dataframe thead th {\n        text-align: right;\n    }\n</style>\n<table border=\"1\" class=\"dataframe\">\n  <thead>\n    <tr style=\"text-align: right;\">\n      <th></th>\n      <th>eps_subscale</th>\n      <th>minpts_subscale</th>\n      <th>eps_dbscan</th>\n      <th>minpts_dbscan</th>\n      <th>n</th>\n      <th>d</th>\n      <th>adj</th>\n      <th>scores</th>\n      <th>duration_subscale</th>\n      <th>duration_dbscan</th>\n    </tr>\n  </thead>\n  <tbody>\n    <tr>\n      <th>0</th>\n      <td>0.03</td>\n      <td>5</td>\n      <td>0.03</td>\n      <td>2</td>\n      <td>1000</td>\n      <td>200</td>\n      <td>False</td>\n      <td>{'ce': 0.9121756487025948}</td>\n      <td>1.03425</td>\n      <td>0.221341</td>\n    </tr>\n  </tbody>\n</table>\n</div>"
     },
     "execution_count": 4,
     "metadata": {},
     "output_type": "execute_result"
    }
   ],
   "source": [
    "settings =  {\"n\":[1000], \"d\":[200], \"c\":10, \"sub_n\":10, \"sub_d\":10, \"std\":0.01,\n",
    "             \"eps_subscale\": [0.03], \"minpts_subscale\":[5],\n",
    "             \"eps_dbscan\":[0.03], \"minpts_dbscan\":[2], \"adj\":[False],\n",
    "             \"metrics\": [\"ce\"]}\n",
    "res = explore(**settings)\n",
    "pd.DataFrame(res[\"stats\"])"
   ],
   "metadata": {
    "collapsed": false,
    "pycharm": {
     "name": "#%%\n"
    }
   }
  },
  {
   "cell_type": "code",
   "execution_count": 63,
   "outputs": [
    {
     "name": "stdout",
     "output_type": "stream",
     "text": [
      "{'eps_subscale': 0.03, 'minpts_subscale': 2, 'eps_dbscan': 0.03, 'minpts_dbscan': 5, 'n': 10000, 'd': 200, 'adj': False, 'scores': {'ce': 0.9996001599360256, 'f1': 1.0, 'rnia': 0.9996001599360256}, 'duration_subscale': 18.763548851013184, 'duration_dbscan': 8.132125616073608}\n",
      "{'eps_subscale': 0.03, 'minpts_subscale': 3, 'eps_dbscan': 0.03, 'minpts_dbscan': 5, 'n': 10000, 'd': 200, 'adj': False, 'scores': {'ce': 0.9996001599360256, 'f1': 1.0, 'rnia': 0.9996001599360256}, 'duration_subscale': 16.068917512893677, 'duration_dbscan': 0.7940390110015869}\n",
      "{'eps_subscale': 0.03, 'minpts_subscale': 4, 'eps_dbscan': 0.03, 'minpts_dbscan': 5, 'n': 10000, 'd': 200, 'adj': False, 'scores': {'ce': 0.9996001599360256, 'f1': 1.0, 'rnia': 0.9996001599360256}, 'duration_subscale': 78.45559549331665, 'duration_dbscan': 1.2449398040771484}\n",
      "{'eps_subscale': 0.03, 'minpts_subscale': 5, 'eps_dbscan': 0.03, 'minpts_dbscan': 5, 'n': 10000, 'd': 200, 'adj': False, 'scores': {'ce': 0.9994003597841296, 'f1': 1.0, 'rnia': 0.9994003597841296}, 'duration_subscale': 775.7690262794495, 'duration_dbscan': 2.0871670246124268}\n"
     ]
    },
    {
     "data": {
      "text/plain": "   eps_subscale  minpts_subscale  eps_dbscan  minpts_dbscan      n    d  \\\n0          0.03                2        0.03              5  10000  200   \n1          0.03                3        0.03              5  10000  200   \n2          0.03                4        0.03              5  10000  200   \n3          0.03                5        0.03              5  10000  200   \n\n     adj                                             scores  \\\n0  False  {'ce': 0.9996001599360256, 'f1': 1.0, 'rnia': ...   \n1  False  {'ce': 0.9996001599360256, 'f1': 1.0, 'rnia': ...   \n2  False  {'ce': 0.9996001599360256, 'f1': 1.0, 'rnia': ...   \n3  False  {'ce': 0.9994003597841296, 'f1': 1.0, 'rnia': ...   \n\n   duration_subscale  duration_dbscan  \n0          18.763549         8.132126  \n1          16.068918         0.794039  \n2          78.455595         1.244940  \n3         775.769026         2.087167  ",
      "text/html": "<div>\n<style scoped>\n    .dataframe tbody tr th:only-of-type {\n        vertical-align: middle;\n    }\n\n    .dataframe tbody tr th {\n        vertical-align: top;\n    }\n\n    .dataframe thead th {\n        text-align: right;\n    }\n</style>\n<table border=\"1\" class=\"dataframe\">\n  <thead>\n    <tr style=\"text-align: right;\">\n      <th></th>\n      <th>eps_subscale</th>\n      <th>minpts_subscale</th>\n      <th>eps_dbscan</th>\n      <th>minpts_dbscan</th>\n      <th>n</th>\n      <th>d</th>\n      <th>adj</th>\n      <th>scores</th>\n      <th>duration_subscale</th>\n      <th>duration_dbscan</th>\n    </tr>\n  </thead>\n  <tbody>\n    <tr>\n      <th>0</th>\n      <td>0.03</td>\n      <td>2</td>\n      <td>0.03</td>\n      <td>5</td>\n      <td>10000</td>\n      <td>200</td>\n      <td>False</td>\n      <td>{'ce': 0.9996001599360256, 'f1': 1.0, 'rnia': ...</td>\n      <td>18.763549</td>\n      <td>8.132126</td>\n    </tr>\n    <tr>\n      <th>1</th>\n      <td>0.03</td>\n      <td>3</td>\n      <td>0.03</td>\n      <td>5</td>\n      <td>10000</td>\n      <td>200</td>\n      <td>False</td>\n      <td>{'ce': 0.9996001599360256, 'f1': 1.0, 'rnia': ...</td>\n      <td>16.068918</td>\n      <td>0.794039</td>\n    </tr>\n    <tr>\n      <th>2</th>\n      <td>0.03</td>\n      <td>4</td>\n      <td>0.03</td>\n      <td>5</td>\n      <td>10000</td>\n      <td>200</td>\n      <td>False</td>\n      <td>{'ce': 0.9996001599360256, 'f1': 1.0, 'rnia': ...</td>\n      <td>78.455595</td>\n      <td>1.244940</td>\n    </tr>\n    <tr>\n      <th>3</th>\n      <td>0.03</td>\n      <td>5</td>\n      <td>0.03</td>\n      <td>5</td>\n      <td>10000</td>\n      <td>200</td>\n      <td>False</td>\n      <td>{'ce': 0.9994003597841296, 'f1': 1.0, 'rnia': ...</td>\n      <td>775.769026</td>\n      <td>2.087167</td>\n    </tr>\n  </tbody>\n</table>\n</div>"
     },
     "execution_count": 63,
     "metadata": {},
     "output_type": "execute_result"
    }
   ],
   "source": [
    "settings =  {\"n\":[10000], \"d\":[200], \"c\":10, \"sub_n\":50, \"sub_d\":10, \"std\":0.01,\n",
    "             \"eps_subscale\": [0.03], \"minpts_subscale\":[2,3,4,5],\n",
    "             \"eps_dbscan\":[0.03], \"minpts_dbscan\":[5], \"adj\":[False],\n",
    "             \"metrics\": [\"ce\", \"f1\", \"rnia\"]}\n",
    "res = explore(**settings)\n",
    "pd.DataFrame(res[\"stats\"])\n",
    "# alle scores waren gleich. Nur Laufzeit ging hoch."
   ],
   "metadata": {
    "collapsed": false,
    "pycharm": {
     "name": "#%%\n"
    }
   }
  },
  {
   "cell_type": "code",
   "execution_count": 65,
   "outputs": [
    {
     "name": "stdout",
     "output_type": "stream",
     "text": [
      "{'eps_subscale': 0.03, 'minpts_subscale': 2, 'eps_dbscan': 0.03, 'minpts_dbscan': 5, 'n': 10000, 'd': 200, 'adj': False, 'scores': {'ce': 0.998, 'f1': 0.9989473684210526, 'rnia': 1.0}, 'duration_subscale': 26.60953664779663, 'duration_dbscan': 11.920304298400879}\n",
      "{'eps_subscale': 0.03, 'minpts_subscale': 3, 'eps_dbscan': 0.03, 'minpts_dbscan': 5, 'n': 10000, 'd': 200, 'adj': False, 'scores': {'ce': 0.9782, 'f1': 0.992514619883041, 'rnia': 0.9996}, 'duration_subscale': 19.515232801437378, 'duration_dbscan': 0.326460599899292}\n",
      "{'eps_subscale': 0.03, 'minpts_subscale': 4, 'eps_dbscan': 0.03, 'minpts_dbscan': 5, 'n': 10000, 'd': 200, 'adj': False, 'scores': {'ce': 0.9364, 'f1': 0.9893567251461988, 'rnia': 0.9986}, 'duration_subscale': 13.513781309127808, 'duration_dbscan': 0.45949578285217285}\n",
      "{'eps_subscale': 0.03, 'minpts_subscale': 5, 'eps_dbscan': 0.03, 'minpts_dbscan': 5, 'n': 10000, 'd': 200, 'adj': False, 'scores': {'ce': 0.8652, 'f1': 0.9926315789473683, 'rnia': 0.9972}, 'duration_subscale': 8.761472702026367, 'duration_dbscan': 0.6747176647186279}\n"
     ]
    },
    {
     "data": {
      "text/plain": "   eps_subscale  minpts_subscale  eps_dbscan  minpts_dbscan      n    d  \\\n0          0.03                2        0.03              5  10000  200   \n1          0.03                3        0.03              5  10000  200   \n2          0.03                4        0.03              5  10000  200   \n3          0.03                5        0.03              5  10000  200   \n\n     adj                                             scores  \\\n0  False  {'ce': 0.998, 'f1': 0.9989473684210526, 'rnia'...   \n1  False  {'ce': 0.9782, 'f1': 0.992514619883041, 'rnia'...   \n2  False  {'ce': 0.9364, 'f1': 0.9893567251461988, 'rnia...   \n3  False  {'ce': 0.8652, 'f1': 0.9926315789473683, 'rnia...   \n\n   duration_subscale  duration_dbscan  \n0          26.609537        11.920304  \n1          19.515233         0.326461  \n2          13.513781         0.459496  \n3           8.761473         0.674718  ",
      "text/html": "<div>\n<style scoped>\n    .dataframe tbody tr th:only-of-type {\n        vertical-align: middle;\n    }\n\n    .dataframe tbody tr th {\n        vertical-align: top;\n    }\n\n    .dataframe thead th {\n        text-align: right;\n    }\n</style>\n<table border=\"1\" class=\"dataframe\">\n  <thead>\n    <tr style=\"text-align: right;\">\n      <th></th>\n      <th>eps_subscale</th>\n      <th>minpts_subscale</th>\n      <th>eps_dbscan</th>\n      <th>minpts_dbscan</th>\n      <th>n</th>\n      <th>d</th>\n      <th>adj</th>\n      <th>scores</th>\n      <th>duration_subscale</th>\n      <th>duration_dbscan</th>\n    </tr>\n  </thead>\n  <tbody>\n    <tr>\n      <th>0</th>\n      <td>0.03</td>\n      <td>2</td>\n      <td>0.03</td>\n      <td>5</td>\n      <td>10000</td>\n      <td>200</td>\n      <td>False</td>\n      <td>{'ce': 0.998, 'f1': 0.9989473684210526, 'rnia'...</td>\n      <td>26.609537</td>\n      <td>11.920304</td>\n    </tr>\n    <tr>\n      <th>1</th>\n      <td>0.03</td>\n      <td>3</td>\n      <td>0.03</td>\n      <td>5</td>\n      <td>10000</td>\n      <td>200</td>\n      <td>False</td>\n      <td>{'ce': 0.9782, 'f1': 0.992514619883041, 'rnia'...</td>\n      <td>19.515233</td>\n      <td>0.326461</td>\n    </tr>\n    <tr>\n      <th>2</th>\n      <td>0.03</td>\n      <td>4</td>\n      <td>0.03</td>\n      <td>5</td>\n      <td>10000</td>\n      <td>200</td>\n      <td>False</td>\n      <td>{'ce': 0.9364, 'f1': 0.9893567251461988, 'rnia...</td>\n      <td>13.513781</td>\n      <td>0.459496</td>\n    </tr>\n    <tr>\n      <th>3</th>\n      <td>0.03</td>\n      <td>5</td>\n      <td>0.03</td>\n      <td>5</td>\n      <td>10000</td>\n      <td>200</td>\n      <td>False</td>\n      <td>{'ce': 0.8652, 'f1': 0.9926315789473683, 'rnia...</td>\n      <td>8.761473</td>\n      <td>0.674718</td>\n    </tr>\n  </tbody>\n</table>\n</div>"
     },
     "execution_count": 65,
     "metadata": {},
     "output_type": "execute_result"
    }
   ],
   "source": [
    "settings =  {\"n\":[10000], \"d\":[200], \"c\":50, \"sub_n\":10, \"sub_d\":10, \"std\":0.01,\n",
    "             \"eps_subscale\": [0.03], \"minpts_subscale\":[2,3,4,5],\n",
    "             \"eps_dbscan\":[0.03], \"minpts_dbscan\":[5], \"adj\":[False],\n",
    "             \"metrics\": [\"ce\", \"f1\", \"rnia\"]}\n",
    "res = explore(**settings)\n",
    "pd.DataFrame(res[\"stats\"])\n",
    "# alle scores waren gleich. Nur Laufzeit ging hoch."
   ],
   "metadata": {
    "collapsed": false,
    "pycharm": {
     "name": "#%%\n"
    }
   }
  },
  {
   "cell_type": "code",
   "execution_count": 59,
   "outputs": [
    {
     "name": "stdout",
     "output_type": "stream",
     "text": [
      "1.0\n"
     ]
    }
   ],
   "source": [
    "#sub = SubscaleExplorer()\n",
    "sub.generate_database(n=1000, d=200, c=10, sub_n=20, sub_d=10, std=0.01)\n",
    "sub.subscale(epsilon=0.03, minpts=5)\n",
    "winsound.Beep(220, 100)\n",
    "sub.dbscan(eps=0.03, min_samples=10, adjust_epsilon=True)\n",
    "winsound.Beep(440, 100)\n",
    "score = sub.score(\"ce\")\n",
    "winsound.Beep(880, 100)\n",
    "print(score)"
   ],
   "metadata": {
    "collapsed": false,
    "pycharm": {
     "name": "#%%\n"
    }
   }
  },
  {
   "cell_type": "code",
   "execution_count": 23,
   "outputs": [
    {
     "name": "stdout",
     "output_type": "stream",
     "text": [
      "{'eps_subscale': 0.01, 'eps_dbscan': 0.01, 'score': 0.1905}\n",
      "{'eps_subscale': 0.01, 'eps_dbscan': 0.02, 'score': 0.19369999999999998}\n",
      "{'eps_subscale': 0.01, 'eps_dbscan': 0.05, 'score': 0.19369999999999998}\n",
      "{'eps_subscale': 0.02, 'eps_dbscan': 0.01, 'score': 0.9339999999999999}\n",
      "{'eps_subscale': 0.02, 'eps_dbscan': 0.02, 'score': 0.986}\n",
      "{'eps_subscale': 0.02, 'eps_dbscan': 0.05, 'score': 0.986}\n",
      "{'eps_subscale': 0.03, 'eps_dbscan': 0.01, 'score': 0.9339999999999999}\n",
      "{'eps_subscale': 0.03, 'eps_dbscan': 0.02, 'score': 1.0}\n",
      "{'eps_subscale': 0.03, 'eps_dbscan': 0.05, 'score': 1.0}\n",
      "{'eps_subscale': 0.04, 'eps_dbscan': 0.01, 'score': 0.9339999999999999}\n",
      "{'eps_subscale': 0.04, 'eps_dbscan': 0.02, 'score': 1.0}\n",
      "{'eps_subscale': 0.04, 'eps_dbscan': 0.05, 'score': 1.0}\n",
      "{'eps_subscale': 0.05, 'eps_dbscan': 0.01, 'score': 0.9339999999999999}\n",
      "{'eps_subscale': 0.05, 'eps_dbscan': 0.02, 'score': 1.0}\n",
      "{'eps_subscale': 0.05, 'eps_dbscan': 0.05, 'score': 1.0}\n",
      "{'eps_subscale': 0.1, 'eps_dbscan': 0.01, 'score': 0.9339999999999999}\n",
      "{'eps_subscale': 0.1, 'eps_dbscan': 0.02, 'score': 1.0}\n",
      "{'eps_subscale': 0.1, 'eps_dbscan': 0.05, 'score': 0.9996001599360256}\n"
     ]
    }
   ],
   "source": [
    "stats = []\n",
    "sub.generate_database(n=10000, d=200, c=10, sub_n=100, sub_d=10, std=0.01)\n",
    "for eps_subscale in [0.01, 0.02, 0.03, 0.04, 0.05, 0.1]:\n",
    "    for eps_dbscan in [0.01, 0.02, 0.05]:\n",
    "        sub.subscale(epsilon=eps_subscale, minpts=2)\n",
    "        winsound.Beep(220, 100)\n",
    "        sub.dbscan(eps=eps_dbscan, adjust_epsilon=True)\n",
    "        winsound.Beep(440, 100)\n",
    "        score = sub.score(\"ce\")\n",
    "        winsound.Beep(880, 100)\n",
    "        tmp = {\"eps_subscale\": eps_subscale, \"eps_dbscan\": eps_dbscan, \"score\": score}\n",
    "        print(tmp)\n",
    "        stats.append(tmp)\n"
   ],
   "metadata": {
    "collapsed": false,
    "pycharm": {
     "name": "#%%\n"
    }
   }
  },
  {
   "cell_type": "code",
   "execution_count": 13,
   "outputs": [
    {
     "name": "stdout",
     "output_type": "stream",
     "text": [
      "{'eps_subscale': 0.015, 'eps_dbscan': 0.01, 'score': 0.5349999999999999, 'duration': 29.714521408081055}\n"
     ]
    },
    {
     "ename": "KeyboardInterrupt",
     "evalue": "",
     "output_type": "error",
     "traceback": [
      "\u001B[1;31m---------------------------------------------------------------------------\u001B[0m",
      "\u001B[1;31mKeyboardInterrupt\u001B[0m                         Traceback (most recent call last)",
      "\u001B[1;32m~\\AppData\\Local\\Temp/ipykernel_23916/3223832010.py\u001B[0m in \u001B[0;36m<module>\u001B[1;34m\u001B[0m\n\u001B[0;32m     11\u001B[0m         \u001B[0mwinsound\u001B[0m\u001B[1;33m.\u001B[0m\u001B[0mBeep\u001B[0m\u001B[1;33m(\u001B[0m\u001B[1;36m440\u001B[0m\u001B[1;33m,\u001B[0m \u001B[1;36m100\u001B[0m\u001B[1;33m)\u001B[0m\u001B[1;33m\u001B[0m\u001B[1;33m\u001B[0m\u001B[0m\n\u001B[0;32m     12\u001B[0m         \u001B[0mt2\u001B[0m \u001B[1;33m=\u001B[0m \u001B[0mtime\u001B[0m\u001B[1;33m.\u001B[0m\u001B[0mtime\u001B[0m\u001B[1;33m(\u001B[0m\u001B[1;33m)\u001B[0m \u001B[1;33m-\u001B[0m \u001B[0mts\u001B[0m\u001B[1;33m\u001B[0m\u001B[1;33m\u001B[0m\u001B[0m\n\u001B[1;32m---> 13\u001B[1;33m         \u001B[0mscore\u001B[0m \u001B[1;33m=\u001B[0m \u001B[0msub\u001B[0m\u001B[1;33m.\u001B[0m\u001B[0mscore\u001B[0m\u001B[1;33m(\u001B[0m\u001B[1;34m\"ce\"\u001B[0m\u001B[1;33m)\u001B[0m\u001B[1;33m\u001B[0m\u001B[1;33m\u001B[0m\u001B[0m\n\u001B[0m\u001B[0;32m     14\u001B[0m         \u001B[0mwinsound\u001B[0m\u001B[1;33m.\u001B[0m\u001B[0mBeep\u001B[0m\u001B[1;33m(\u001B[0m\u001B[1;36m880\u001B[0m\u001B[1;33m,\u001B[0m \u001B[1;36m100\u001B[0m\u001B[1;33m)\u001B[0m\u001B[1;33m\u001B[0m\u001B[1;33m\u001B[0m\u001B[0m\n\u001B[0;32m     15\u001B[0m         \u001B[0mtmp\u001B[0m \u001B[1;33m=\u001B[0m \u001B[1;33m{\u001B[0m\u001B[1;34m\"eps_subscale\"\u001B[0m\u001B[1;33m:\u001B[0m \u001B[0meps_subscale\u001B[0m\u001B[1;33m,\u001B[0m \u001B[1;34m\"eps_dbscan\"\u001B[0m\u001B[1;33m:\u001B[0m \u001B[0meps_dbscan\u001B[0m\u001B[1;33m,\u001B[0m \u001B[1;34m\"score\"\u001B[0m\u001B[1;33m:\u001B[0m \u001B[0mscore\u001B[0m\u001B[1;33m,\u001B[0m \u001B[1;34m\"duration\"\u001B[0m\u001B[1;33m:\u001B[0m \u001B[0mt1\u001B[0m \u001B[1;33m+\u001B[0m \u001B[0mt2\u001B[0m\u001B[1;33m}\u001B[0m\u001B[1;33m\u001B[0m\u001B[1;33m\u001B[0m\u001B[0m\n",
      "\u001B[1;32m~\\Documents\\Studium\\projekt1\\subscale_exploration\\subscale_explorer.py\u001B[0m in \u001B[0;36mscore\u001B[1;34m(self, metric)\u001B[0m\n\u001B[0;32m    148\u001B[0m             \u001B[1;31m# in the form of a set. Once for ground_truth, once for found_clusters.\u001B[0m\u001B[1;33m\u001B[0m\u001B[1;33m\u001B[0m\u001B[0m\n\u001B[0;32m    149\u001B[0m             \u001B[0mmicro_objects_ground\u001B[0m \u001B[1;33m=\u001B[0m \u001B[0mset\u001B[0m\u001B[1;33m(\u001B[0m\u001B[0mfunctools\u001B[0m\u001B[1;33m.\u001B[0m\u001B[0mreduce\u001B[0m\u001B[1;33m(\u001B[0m\u001B[1;32mlambda\u001B[0m \u001B[0ma\u001B[0m\u001B[1;33m,\u001B[0m \u001B[0mb\u001B[0m\u001B[1;33m:\u001B[0m \u001B[0ma\u001B[0m\u001B[1;33m+\u001B[0m\u001B[0mb\u001B[0m\u001B[1;33m,\u001B[0m \u001B[0mclusters_cartesian_product_ground\u001B[0m\u001B[1;33m)\u001B[0m\u001B[1;33m)\u001B[0m\u001B[1;33m\u001B[0m\u001B[1;33m\u001B[0m\u001B[0m\n\u001B[1;32m--> 150\u001B[1;33m             \u001B[0mmicro_objects_res\u001B[0m \u001B[1;33m=\u001B[0m \u001B[0mset\u001B[0m\u001B[1;33m(\u001B[0m\u001B[0mfunctools\u001B[0m\u001B[1;33m.\u001B[0m\u001B[0mreduce\u001B[0m\u001B[1;33m(\u001B[0m\u001B[1;32mlambda\u001B[0m \u001B[0ma\u001B[0m\u001B[1;33m,\u001B[0m \u001B[0mb\u001B[0m\u001B[1;33m:\u001B[0m \u001B[0ma\u001B[0m\u001B[1;33m+\u001B[0m\u001B[0mb\u001B[0m\u001B[1;33m,\u001B[0m \u001B[0mclusters_cartesian_product_res\u001B[0m\u001B[1;33m)\u001B[0m\u001B[1;33m)\u001B[0m\u001B[1;33m\u001B[0m\u001B[1;33m\u001B[0m\u001B[0m\n\u001B[0m\u001B[0;32m    151\u001B[0m \u001B[1;33m\u001B[0m\u001B[0m\n\u001B[0;32m    152\u001B[0m             \u001B[1;31m# U is union between all micro_objects from both ground and res\u001B[0m\u001B[1;33m\u001B[0m\u001B[1;33m\u001B[0m\u001B[0m\n",
      "\u001B[1;32m~\\Documents\\Studium\\projekt1\\subscale_exploration\\subscale_explorer.py\u001B[0m in \u001B[0;36m<lambda>\u001B[1;34m(a, b)\u001B[0m\n\u001B[0;32m    148\u001B[0m             \u001B[1;31m# in the form of a set. Once for ground_truth, once for found_clusters.\u001B[0m\u001B[1;33m\u001B[0m\u001B[1;33m\u001B[0m\u001B[0m\n\u001B[0;32m    149\u001B[0m             \u001B[0mmicro_objects_ground\u001B[0m \u001B[1;33m=\u001B[0m \u001B[0mset\u001B[0m\u001B[1;33m(\u001B[0m\u001B[0mfunctools\u001B[0m\u001B[1;33m.\u001B[0m\u001B[0mreduce\u001B[0m\u001B[1;33m(\u001B[0m\u001B[1;32mlambda\u001B[0m \u001B[0ma\u001B[0m\u001B[1;33m,\u001B[0m \u001B[0mb\u001B[0m\u001B[1;33m:\u001B[0m \u001B[0ma\u001B[0m\u001B[1;33m+\u001B[0m\u001B[0mb\u001B[0m\u001B[1;33m,\u001B[0m \u001B[0mclusters_cartesian_product_ground\u001B[0m\u001B[1;33m)\u001B[0m\u001B[1;33m)\u001B[0m\u001B[1;33m\u001B[0m\u001B[1;33m\u001B[0m\u001B[0m\n\u001B[1;32m--> 150\u001B[1;33m             \u001B[0mmicro_objects_res\u001B[0m \u001B[1;33m=\u001B[0m \u001B[0mset\u001B[0m\u001B[1;33m(\u001B[0m\u001B[0mfunctools\u001B[0m\u001B[1;33m.\u001B[0m\u001B[0mreduce\u001B[0m\u001B[1;33m(\u001B[0m\u001B[1;32mlambda\u001B[0m \u001B[0ma\u001B[0m\u001B[1;33m,\u001B[0m \u001B[0mb\u001B[0m\u001B[1;33m:\u001B[0m \u001B[0ma\u001B[0m\u001B[1;33m+\u001B[0m\u001B[0mb\u001B[0m\u001B[1;33m,\u001B[0m \u001B[0mclusters_cartesian_product_res\u001B[0m\u001B[1;33m)\u001B[0m\u001B[1;33m)\u001B[0m\u001B[1;33m\u001B[0m\u001B[1;33m\u001B[0m\u001B[0m\n\u001B[0m\u001B[0;32m    151\u001B[0m \u001B[1;33m\u001B[0m\u001B[0m\n\u001B[0;32m    152\u001B[0m             \u001B[1;31m# U is union between all micro_objects from both ground and res\u001B[0m\u001B[1;33m\u001B[0m\u001B[1;33m\u001B[0m\u001B[0m\n",
      "\u001B[1;31mKeyboardInterrupt\u001B[0m: "
     ]
    }
   ],
   "source": [
    "stats = []\n",
    "sub.generate_database(n=10000, d=200, c=10, sub_n=100, sub_d=10, std=0.01)\n",
    "for eps_subscale in [0.015, 0.03, 0.06]:\n",
    "    ts = time.time()\n",
    "    sub.subscale(epsilon=eps_subscale, minpts=3)\n",
    "    winsound.Beep(220, 100)\n",
    "    t1 = time.time() - ts\n",
    "    for eps_dbscan in [0.01, 0.1, 1]:\n",
    "        ts = time.time()\n",
    "        sub.dbscan(eps=eps_dbscan, adjust_epsilon=True)\n",
    "        winsound.Beep(440, 100)\n",
    "        t2 = time.time() - ts\n",
    "        score = sub.score(\"ce\")\n",
    "        winsound.Beep(880, 100)\n",
    "        tmp = {\"eps_subscale\": eps_subscale, \"eps_dbscan\": eps_dbscan, \"score\": score, \"duration\": t1 + t2}\n",
    "        print(tmp)\n",
    "        stats.append(tmp)\n"
   ],
   "metadata": {
    "collapsed": false,
    "pycharm": {
     "name": "#%%\n"
    }
   }
  },
  {
   "cell_type": "code",
   "execution_count": 15,
   "outputs": [
    {
     "name": "stdout",
     "output_type": "stream",
     "text": [
      "{'eps_subscale': 0.015, 'eps_dbscan': 0.01, 'score': 0.777, 'duration_subscale': 9.333108901977539, 'duration_dbscan': 5.042741537094116}\n",
      "{'eps_subscale': 0.015, 'eps_dbscan': 0.1, 'score': 0.787, 'duration_subscale': 9.333108901977539, 'duration_dbscan': 4.892937421798706}\n",
      "{'eps_subscale': 0.015, 'eps_dbscan': 1, 'score': 0.787, 'duration_subscale': 9.333108901977539, 'duration_dbscan': 6.34027361869812}\n",
      "{'eps_subscale': 0.3, 'eps_dbscan': 0.01, 'score': 0.9299999999999999, 'duration_subscale': 239.6158196926117, 'duration_dbscan': 269.8010070323944}\n",
      "{'eps_subscale': 0.3, 'eps_dbscan': 0.1, 'score': 0.9885330170027679, 'duration_subscale': 239.6158196926117, 'duration_dbscan': 273.4427824020386}\n",
      "{'eps_subscale': 0.3, 'eps_dbscan': 1, 'score': 0.09054362391800375, 'duration_subscale': 239.6158196926117, 'duration_dbscan': 269.70323061943054}\n",
      "{'eps_subscale': 0.6, 'eps_dbscan': 0.01, 'score': 0.9299999999999999, 'duration_subscale': 351.880268573761, 'duration_dbscan': 1049.2405412197113}\n",
      "{'eps_subscale': 0.6, 'eps_dbscan': 0.1, 'score': 0.9925558312655087, 'duration_subscale': 351.880268573761, 'duration_dbscan': 1034.881707906723}\n"
     ]
    },
    {
     "ename": "MemoryError",
     "evalue": "",
     "output_type": "error",
     "traceback": [
      "\u001B[1;31m---------------------------------------------------------------------------\u001B[0m",
      "\u001B[1;31mMemoryError\u001B[0m                               Traceback (most recent call last)",
      "\u001B[1;32m~\\AppData\\Local\\Temp/ipykernel_23916/3140748922.py\u001B[0m in \u001B[0;36m<module>\u001B[1;34m\u001B[0m\n\u001B[0;32m     15\u001B[0m         \u001B[0mwinsound\u001B[0m\u001B[1;33m.\u001B[0m\u001B[0mBeep\u001B[0m\u001B[1;33m(\u001B[0m\u001B[1;36m440\u001B[0m\u001B[1;33m,\u001B[0m \u001B[1;36m100\u001B[0m\u001B[1;33m)\u001B[0m\u001B[1;33m\u001B[0m\u001B[1;33m\u001B[0m\u001B[0m\n\u001B[0;32m     16\u001B[0m         \u001B[0mt2\u001B[0m \u001B[1;33m=\u001B[0m \u001B[0mtime\u001B[0m\u001B[1;33m.\u001B[0m\u001B[0mtime\u001B[0m\u001B[1;33m(\u001B[0m\u001B[1;33m)\u001B[0m \u001B[1;33m-\u001B[0m \u001B[0mts\u001B[0m\u001B[1;33m\u001B[0m\u001B[1;33m\u001B[0m\u001B[0m\n\u001B[1;32m---> 17\u001B[1;33m         \u001B[0mscore\u001B[0m \u001B[1;33m=\u001B[0m \u001B[0msub\u001B[0m\u001B[1;33m.\u001B[0m\u001B[0mscore\u001B[0m\u001B[1;33m(\u001B[0m\u001B[1;34m\"ce\"\u001B[0m\u001B[1;33m)\u001B[0m\u001B[1;33m\u001B[0m\u001B[1;33m\u001B[0m\u001B[0m\n\u001B[0m\u001B[0;32m     18\u001B[0m         \u001B[0mwinsound\u001B[0m\u001B[1;33m.\u001B[0m\u001B[0mBeep\u001B[0m\u001B[1;33m(\u001B[0m\u001B[1;36m880\u001B[0m\u001B[1;33m,\u001B[0m \u001B[1;36m100\u001B[0m\u001B[1;33m)\u001B[0m\u001B[1;33m\u001B[0m\u001B[1;33m\u001B[0m\u001B[0m\n\u001B[0;32m     19\u001B[0m         \u001B[0mtmp\u001B[0m \u001B[1;33m=\u001B[0m \u001B[1;33m{\u001B[0m\u001B[1;34m\"eps_subscale\"\u001B[0m\u001B[1;33m:\u001B[0m \u001B[0meps_subscale\u001B[0m\u001B[1;33m,\u001B[0m \u001B[1;34m\"eps_dbscan\"\u001B[0m\u001B[1;33m:\u001B[0m \u001B[0meps_dbscan\u001B[0m\u001B[1;33m,\u001B[0m \u001B[1;34m\"score\"\u001B[0m\u001B[1;33m:\u001B[0m \u001B[0mscore\u001B[0m\u001B[1;33m,\u001B[0m \u001B[1;34m\"duration_subscale\"\u001B[0m\u001B[1;33m:\u001B[0m \u001B[0mt1\u001B[0m\u001B[1;33m,\u001B[0m \u001B[1;34m\"duration_dbscan\"\u001B[0m\u001B[1;33m:\u001B[0m\u001B[0mt2\u001B[0m\u001B[1;33m}\u001B[0m\u001B[1;33m\u001B[0m\u001B[1;33m\u001B[0m\u001B[0m\n",
      "\u001B[1;32m~\\Documents\\Studium\\projekt1\\subscale_exploration\\subscale_explorer.py\u001B[0m in \u001B[0;36mscore\u001B[1;34m(self, metric)\u001B[0m\n\u001B[0;32m    159\u001B[0m \u001B[1;33m\u001B[0m\u001B[0m\n\u001B[0;32m    160\u001B[0m             \u001B[1;32mif\u001B[0m \u001B[0mmetric\u001B[0m \u001B[1;33m==\u001B[0m \u001B[1;34m\"ce\"\u001B[0m\u001B[1;33m:\u001B[0m\u001B[1;33m\u001B[0m\u001B[1;33m\u001B[0m\u001B[0m\n\u001B[1;32m--> 161\u001B[1;33m                 \u001B[1;32mreturn\u001B[0m \u001B[0mself\u001B[0m\u001B[1;33m.\u001B[0m\u001B[0mcluster_error\u001B[0m\u001B[1;33m(\u001B[0m\u001B[0mlen\u001B[0m\u001B[1;33m(\u001B[0m\u001B[0mU\u001B[0m\u001B[1;33m)\u001B[0m\u001B[1;33m,\u001B[0m \u001B[0mclusters_cartesian_product_ground\u001B[0m\u001B[1;33m,\u001B[0m \u001B[0mclusters_cartesian_product_res\u001B[0m\u001B[1;33m)\u001B[0m\u001B[1;33m\u001B[0m\u001B[1;33m\u001B[0m\u001B[0m\n\u001B[0m\u001B[0;32m    162\u001B[0m \u001B[1;33m\u001B[0m\u001B[0m\n\u001B[0;32m    163\u001B[0m     \u001B[1;33m@\u001B[0m\u001B[0mstaticmethod\u001B[0m\u001B[1;33m\u001B[0m\u001B[1;33m\u001B[0m\u001B[0m\n",
      "\u001B[1;32m~\\Documents\\Studium\\projekt1\\subscale_exploration\\subscale_explorer.py\u001B[0m in \u001B[0;36mcluster_error\u001B[1;34m(size_union, ground, res)\u001B[0m\n\u001B[0;32m    221\u001B[0m         \u001B[1;31m# We use the Hungarian method to find a permutation of the cluster labels such\u001B[0m\u001B[1;33m\u001B[0m\u001B[1;33m\u001B[0m\u001B[0m\n\u001B[0;32m    222\u001B[0m         \u001B[1;31m# that the sum of the diagonal elements of M is maximized.\u001B[0m\u001B[1;33m\u001B[0m\u001B[1;33m\u001B[0m\u001B[0m\n\u001B[1;32m--> 223\u001B[1;33m         \u001B[0mindexes\u001B[0m \u001B[1;33m=\u001B[0m \u001B[0mmunkres\u001B[0m\u001B[1;33m.\u001B[0m\u001B[0mMunkres\u001B[0m\u001B[1;33m(\u001B[0m\u001B[1;33m)\u001B[0m\u001B[1;33m.\u001B[0m\u001B[0mcompute\u001B[0m\u001B[1;33m(\u001B[0m\u001B[0mmunkres\u001B[0m\u001B[1;33m.\u001B[0m\u001B[0mmake_cost_matrix\u001B[0m\u001B[1;33m(\u001B[0m\u001B[0mM\u001B[0m\u001B[1;33m)\u001B[0m\u001B[1;33m)\u001B[0m\u001B[1;33m\u001B[0m\u001B[1;33m\u001B[0m\u001B[0m\n\u001B[0m\u001B[0;32m    224\u001B[0m         \u001B[0mD_max\u001B[0m \u001B[1;33m=\u001B[0m \u001B[1;36m0\u001B[0m\u001B[1;33m\u001B[0m\u001B[1;33m\u001B[0m\u001B[0m\n\u001B[0;32m    225\u001B[0m         \u001B[1;32mfor\u001B[0m \u001B[0mrow\u001B[0m\u001B[1;33m,\u001B[0m \u001B[0mcolumn\u001B[0m \u001B[1;32min\u001B[0m \u001B[0mindexes\u001B[0m\u001B[1;33m:\u001B[0m\u001B[1;33m\u001B[0m\u001B[1;33m\u001B[0m\u001B[0m\n",
      "\u001B[1;32m~\\anaconda3\\lib\\site-packages\\munkres.py\u001B[0m in \u001B[0;36mcompute\u001B[1;34m(self, cost_matrix)\u001B[0m\n\u001B[0;32m    134\u001B[0m         \u001B[0mthrough\u001B[0m \u001B[0mthe\u001B[0m \u001B[0mmatrix\u001B[0m\u001B[1;33m\u001B[0m\u001B[1;33m\u001B[0m\u001B[0m\n\u001B[0;32m    135\u001B[0m         \"\"\"\n\u001B[1;32m--> 136\u001B[1;33m         \u001B[0mself\u001B[0m\u001B[1;33m.\u001B[0m\u001B[0mC\u001B[0m \u001B[1;33m=\u001B[0m \u001B[0mself\u001B[0m\u001B[1;33m.\u001B[0m\u001B[0mpad_matrix\u001B[0m\u001B[1;33m(\u001B[0m\u001B[0mcost_matrix\u001B[0m\u001B[1;33m)\u001B[0m\u001B[1;33m\u001B[0m\u001B[1;33m\u001B[0m\u001B[0m\n\u001B[0m\u001B[0;32m    137\u001B[0m         \u001B[0mself\u001B[0m\u001B[1;33m.\u001B[0m\u001B[0mn\u001B[0m \u001B[1;33m=\u001B[0m \u001B[0mlen\u001B[0m\u001B[1;33m(\u001B[0m\u001B[0mself\u001B[0m\u001B[1;33m.\u001B[0m\u001B[0mC\u001B[0m\u001B[1;33m)\u001B[0m\u001B[1;33m\u001B[0m\u001B[1;33m\u001B[0m\u001B[0m\n\u001B[0;32m    138\u001B[0m         \u001B[0mself\u001B[0m\u001B[1;33m.\u001B[0m\u001B[0moriginal_length\u001B[0m \u001B[1;33m=\u001B[0m \u001B[0mlen\u001B[0m\u001B[1;33m(\u001B[0m\u001B[0mcost_matrix\u001B[0m\u001B[1;33m)\u001B[0m\u001B[1;33m\u001B[0m\u001B[1;33m\u001B[0m\u001B[0m\n",
      "\u001B[1;32m~\\anaconda3\\lib\\site-packages\\munkres.py\u001B[0m in \u001B[0;36mpad_matrix\u001B[1;34m(self, matrix, pad_value)\u001B[0m\n\u001B[0;32m    108\u001B[0m \u001B[1;33m\u001B[0m\u001B[0m\n\u001B[0;32m    109\u001B[0m         \u001B[1;32mwhile\u001B[0m \u001B[0mlen\u001B[0m\u001B[1;33m(\u001B[0m\u001B[0mnew_matrix\u001B[0m\u001B[1;33m)\u001B[0m \u001B[1;33m<\u001B[0m \u001B[0mtotal_rows\u001B[0m\u001B[1;33m:\u001B[0m\u001B[1;33m\u001B[0m\u001B[1;33m\u001B[0m\u001B[0m\n\u001B[1;32m--> 110\u001B[1;33m             \u001B[0mnew_matrix\u001B[0m \u001B[1;33m+=\u001B[0m \u001B[1;33m[\u001B[0m\u001B[1;33m[\u001B[0m\u001B[0mpad_value\u001B[0m\u001B[1;33m]\u001B[0m \u001B[1;33m*\u001B[0m \u001B[0mtotal_rows\u001B[0m\u001B[1;33m]\u001B[0m\u001B[1;33m\u001B[0m\u001B[1;33m\u001B[0m\u001B[0m\n\u001B[0m\u001B[0;32m    111\u001B[0m \u001B[1;33m\u001B[0m\u001B[0m\n\u001B[0;32m    112\u001B[0m         \u001B[1;32mreturn\u001B[0m \u001B[0mnew_matrix\u001B[0m\u001B[1;33m\u001B[0m\u001B[1;33m\u001B[0m\u001B[0m\n",
      "\u001B[1;31mMemoryError\u001B[0m: "
     ]
    }
   ],
   "source": [
    "settings =  {\"n\":10000, \"d\":200, \"c\":10, \"sub_n\":100, \"sub_d\":10, \"std\":0.01,\n",
    "               \"eps_subscale\": [0.015, 0.3, 0.6], \"minpts_subscale\":2,\n",
    "               \"eps_dbscan\":[0.01, 0.1, 1], \"minpts_dbscan\":5, \"adj\":True }\n",
    "stats = []\n",
    "sub.generate_database(n=settings[\"n\"], d=settings[\"d\"], c=settings[\"c\"],\n",
    "                      sub_n=settings[\"sub_n\"], sub_d=settings[\"sub_d\"], std=settings[\"std\"])\n",
    "for eps_subscale in settings[\"eps_subscale\"]:\n",
    "    ts = time.time()\n",
    "    sub.subscale(epsilon=eps_subscale, minpts=settings[\"minpts_subscale\"])\n",
    "    winsound.Beep(220, 100)\n",
    "    t1 = time.time() - ts\n",
    "    for eps_dbscan in settings[\"eps_dbscan\"]:\n",
    "        ts = time.time()\n",
    "        sub.dbscan(eps=eps_dbscan, adjust_epsilon=settings[\"adj\"])\n",
    "        winsound.Beep(440, 100)\n",
    "        t2 = time.time() - ts\n",
    "        score = sub.score(\"ce\")\n",
    "        winsound.Beep(880, 100)\n",
    "        tmp = {\"eps_subscale\": eps_subscale, \"eps_dbscan\": eps_dbscan, \"score\": score, \"duration_subscale\": t1, \"duration_dbscan\":t2}\n",
    "        print(tmp)\n",
    "        stats.append(tmp)\n",
    "result = {\"settings\": settings, \"stats\": stats}\n",
    "pickle.dump(result, open(\"eps_v1.p\", \"wb\"))"
   ],
   "metadata": {
    "collapsed": false,
    "pycharm": {
     "name": "#%%\n"
    }
   }
  },
  {
   "cell_type": "code",
   "execution_count": null,
   "outputs": [],
   "source": [
    "stats = []\n",
    "sub.generate_database(n=10000, d=200, c=10, sub_n=100, sub_d=10, std=0.01)\n",
    "for eps_subscale in [0.01, 0.02, 0.03, 0.04, 0.05, 0.1]:\n",
    "    for eps_dbscan in [0.01, 0.02, 0.05]:\n",
    "        sub.subscale(epsilon=eps_subscale, minpts=2)\n",
    "        winsound.Beep(220, 100)\n",
    "        sub.dbscan(eps=eps_dbscan, adjust_epsilon=True)\n",
    "        winsound.Beep(440, 100)\n",
    "        score = sub.score(\"ce\")\n",
    "        winsound.Beep(880, 100)\n",
    "        tmp = {\"eps_subscale\": eps_subscale, \"eps_dbscan\": eps_dbscan, \"score\": score}\n",
    "        print(tmp)\n",
    "        stats.append(tmp)\n"
   ],
   "metadata": {
    "collapsed": false,
    "pycharm": {
     "name": "#%%\n"
    }
   }
  },
  {
   "cell_type": "code",
   "execution_count": null,
   "outputs": [],
   "source": [
    "import pandas as pd\n",
    "import json\n",
    "\n",
    "with open(\"out/results/found_clusters.csv\", mode=\"r\") as found_clusters_file:\n",
    "    df_found_clusters = pd.read_csv(found_clusters_file, header=None, delimiter=\"-\") \\\n",
    "                .apply(lambda s: s.apply(lambda x: (set(json.loads(x)))))\n",
    "    print(df_found_clusters)\n",
    "\n"
   ],
   "metadata": {
    "collapsed": false,
    "pycharm": {
     "name": "#%%\n"
    }
   }
  },
  {
   "cell_type": "code",
   "execution_count": null,
   "outputs": [],
   "source": [
    "sub.score(\"ce\")"
   ],
   "metadata": {
    "collapsed": false,
    "pycharm": {
     "name": "#%%\n"
    }
   }
  },
  {
   "cell_type": "code",
   "execution_count": null,
   "outputs": [],
   "source": [
    "%%time\n",
    "sub.generate_database(n=50000, d=100, c=3, sub_n=10, sub_d=10, std=0.01)\n",
    "sub.subscale(epsilon=0.1, minpts=2, verbose=True)"
   ],
   "metadata": {
    "collapsed": false,
    "pycharm": {
     "name": "#%%\n"
    }
   }
  },
  {
   "cell_type": "code",
   "execution_count": null,
   "outputs": [],
   "source": [
    "sub.dbscan(eps=0.05, adjust_epsilon=True)\n",
    "sub.score(\"ce\")\n"
   ],
   "metadata": {
    "collapsed": false,
    "pycharm": {
     "name": "#%%\n"
    }
   }
  },
  {
   "cell_type": "code",
   "execution_count": null,
   "outputs": [],
   "source": [
    "sub.score()"
   ],
   "metadata": {
    "collapsed": false,
    "pycharm": {
     "name": "#%%\n"
    }
   }
  },
  {
   "cell_type": "code",
   "execution_count": null,
   "outputs": [],
   "source": [
    "stats"
   ],
   "metadata": {
    "collapsed": false,
    "pycharm": {
     "name": "#%%\n"
    }
   }
  },
  {
   "cell_type": "code",
   "execution_count": null,
   "outputs": [],
   "source": [
    "%%time\n",
    "sub.dbscan(eps=0.2, adjust_epsilon=True)\n",
    "sub.score(\"ce\")"
   ],
   "metadata": {
    "collapsed": false,
    "pycharm": {
     "name": "#%%\n"
    }
   }
  },
  {
   "cell_type": "code",
   "execution_count": null,
   "outputs": [],
   "source": [
    "stats = []\n",
    "sub.generate_database(n=10000, d=200, c=10, sub_n=100, sub_d=10, std=0.01)\n",
    "for eps_ss in [0.01, 0.015, 0.02, 0.025, 0.03]:\n",
    "    for eps_dbscan in [0.01, 0.015, 0.02, 0.025, 0.03]:\n",
    "        sub.generate_database(n=n, d=100, c=3, sub_n=10, sub_d=10, std=0.01)\n",
    "        t0 = time.time()\n",
    "        sub.subscale(epsilon=0.1, minpts=minpts)\n",
    "        t1 = time.time() - t0\n",
    "        sub.dbscan(eps=0.5, adjust_epsilon=True)\n",
    "        t2 = time.time() - t0 - t1\n",
    "        score = sub.score(\"ce\")\n",
    "        tmp = {\"n\": n, \"minpts\": minpts, \"score\": score, \"time_subscale\": t1, \"time_dbscan\": t2}\n",
    "        print(tmp)\n",
    "        stats.append(tmp)\n"
   ],
   "metadata": {
    "collapsed": false,
    "pycharm": {
     "name": "#%%\n"
    }
   }
  },
  {
   "cell_type": "code",
   "execution_count": null,
   "outputs": [],
   "source": [
    "stats"
   ],
   "metadata": {
    "collapsed": false,
    "pycharm": {
     "name": "#%%\n"
    }
   }
  },
  {
   "cell_type": "code",
   "execution_count": null,
   "outputs": [],
   "source": [
    "%%time\n",
    "sub.dbscan(eps=0.2, adjust_epsilon=True)\n",
    "sub.score(\"ce\")"
   ],
   "metadata": {
    "collapsed": false,
    "pycharm": {
     "name": "#%%\n"
    }
   }
  },
  {
   "cell_type": "code",
   "execution_count": null,
   "outputs": [],
   "source": [
    "stats = []\n",
    "sub.generate_database(n=10000, d=200, c=10, sub_n=100, sub_d=10, std=0.01)\n",
    "for eps_ss in [0.01, 0.015, 0.02, 0.025, 0.03]:\n",
    "    for eps_dbscan in [0.01, 0.015, 0.02, 0.025, 0.03]:\n",
    "        sub.generate_database(n=n, d=100, c=3, sub_n=10, sub_d=10, std=0.01)\n",
    "        t0 = time.time()\n",
    "        sub.subscale(epsilon=0.1, minpts=minpts)\n",
    "        t1 = time.time() - t0\n",
    "        sub.dbscan(eps=0.5, adjust_epsilon=True)\n",
    "        t2 = time.time() - t0 - t1\n",
    "        score = sub.score(\"ce\")\n",
    "        tmp = {\"n\": n, \"minpts\": minpts, \"score\": score, \"time_subscale\": t1, \"time_dbscan\": t2}\n",
    "        print(tmp)\n",
    "        stats.append(tmp)\n"
   ],
   "metadata": {
    "collapsed": false,
    "pycharm": {
     "name": "#%%\n"
    }
   }
  },
  {
   "cell_type": "code",
   "execution_count": 49,
   "outputs": [
    {
     "data": {
      "text/plain": "[{'n': 100,\n  'minpts': 2,\n  'score': 1.0,\n  'time_subscale': 0.33048033714294434,\n  'time_dbscan': 0.03166961669921875},\n {'n': 100,\n  'minpts': 3,\n  'score': 1.0,\n  'time_subscale': 0.3014717102050781,\n  'time_dbscan': 0.0},\n {'n': 100,\n  'minpts': 4,\n  'score': 1.0,\n  'time_subscale': 0.2825639247894287,\n  'time_dbscan': 0.0},\n {'n': 100,\n  'minpts': 2,\n  'score': 1.0,\n  'time_subscale': 0.3003535270690918,\n  'time_dbscan': 0.03126072883605957},\n {'n': 100,\n  'minpts': 3,\n  'score': 1.0,\n  'time_subscale': 0.28255224227905273,\n  'time_dbscan': 0.0},\n {'n': 100,\n  'minpts': 4,\n  'score': 1.0,\n  'time_subscale': 0.26713013648986816,\n  'time_dbscan': 0.0},\n {'n': 100,\n  'minpts': 2,\n  'score': 1.0,\n  'time_subscale': 0.26973700523376465,\n  'time_dbscan': 0.015624046325683594},\n {'n': 100,\n  'minpts': 3,\n  'score': 1.0,\n  'time_subscale': 0.2173149585723877,\n  'time_dbscan': 0.0},\n {'n': 100,\n  'minpts': 4,\n  'score': 1.0,\n  'time_subscale': 0.2677772045135498,\n  'time_dbscan': 0.0}]"
     },
     "execution_count": 49,
     "metadata": {},
     "output_type": "execute_result"
    }
   ],
   "source": [
    "stats"
   ],
   "metadata": {
    "collapsed": false,
    "pycharm": {
     "name": "#%%\n"
    }
   }
  },
  {
   "cell_type": "code",
   "execution_count": 4,
   "outputs": [
    {
     "name": "stdout",
     "output_type": "stream",
     "text": [
      "Wall time: 42.1 s\n"
     ]
    },
    {
     "data": {
      "text/plain": "0.9868421052631579"
     },
     "execution_count": 4,
     "metadata": {},
     "output_type": "execute_result"
    }
   ],
   "source": [
    "%%time\n",
    "sub.dbscan(eps=0.2, adjust_epsilon=True)\n",
    "sub.score(\"ce\")"
   ],
   "metadata": {
    "collapsed": false,
    "pycharm": {
     "name": "#%%\n"
    }
   }
  },
  {
   "cell_type": "code",
   "execution_count": 54,
   "outputs": [
    {
     "name": "stdout",
     "output_type": "stream",
     "text": [
      "{'n': 100, 'minpts': 2, 'score': 1.0, 'time_subscale': 0.28426694869995117, 'time_dbscan': 0.031270503997802734}\n",
      "{'n': 100, 'minpts': 3, 'score': 1.0, 'time_subscale': 0.23936915397644043, 'time_dbscan': 0.0}\n",
      "{'n': 100, 'minpts': 4, 'score': 1.0, 'time_subscale': 0.23851537704467773, 'time_dbscan': 0.004515409469604492}\n",
      "{'n': 500, 'minpts': 2, 'score': 1.0, 'time_subscale': 0.6010711193084717, 'time_dbscan': 0.15696144104003906}\n",
      "{'n': 500, 'minpts': 3, 'score': 1.0, 'time_subscale': 0.38045620918273926, 'time_dbscan': 0.0}\n",
      "{'n': 500, 'minpts': 4, 'score': 1.0, 'time_subscale': 0.3305492401123047, 'time_dbscan': 0.0}\n",
      "{'n': 1000, 'minpts': 2, 'score': 1.0, 'time_subscale': 1.0125987529754639, 'time_dbscan': 0.5891709327697754}\n",
      "{'n': 1000, 'minpts': 3, 'score': 1.0, 'time_subscale': 0.664151668548584, 'time_dbscan': 0.0}\n",
      "{'n': 1000, 'minpts': 4, 'score': 1.0, 'time_subscale': 0.47440004348754883, 'time_dbscan': 0.0}\n"
     ]
    }
   ],
   "source": [
    "stats = []\n",
    "sub.generate_database(n=10000, d=200, c=10, sub_n=100, sub_d=10, std=0.01)\n",
    "for eps_ss in [0.01, 0.015, 0.02, 0.025, 0.03]:\n",
    "    for eps_dbscan in [0.01, 0.015, 0.02, 0.025, 0.03]:\n",
    "        sub.generate_database(n=n, d=100, c=3, sub_n=10, sub_d=10, std=0.01)\n",
    "        t0 = time.time()\n",
    "        sub.subscale(epsilon=0.1, minpts=minpts)\n",
    "        t1 = time.time() - t0\n",
    "        sub.dbscan(eps=0.5, adjust_epsilon=True)\n",
    "        t2 = time.time() - t0 - t1\n",
    "        score = sub.score(\"ce\")\n",
    "        tmp = {\"n\": n, \"minpts\": minpts, \"score\": score, \"time_subscale\": t1, \"time_dbscan\": t2}\n",
    "        print(tmp)\n",
    "        stats.append(tmp)\n"
   ],
   "metadata": {
    "collapsed": false,
    "pycharm": {
     "name": "#%%\n"
    }
   }
  }
 ],
 "metadata": {
  "kernelspec": {
   "display_name": "Python 3",
   "language": "python",
   "name": "python3"
  },
  "language_info": {
   "codemirror_mode": {
    "name": "ipython",
    "version": 2
   },
   "file_extension": ".py",
   "mimetype": "text/x-python",
   "name": "python",
   "nbconvert_exporter": "python",
   "pygments_lexer": "ipython2",
   "version": "2.7.6"
  }
 },
 "nbformat": 4,
 "nbformat_minor": 0
}