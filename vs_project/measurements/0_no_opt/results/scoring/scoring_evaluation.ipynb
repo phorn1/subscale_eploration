{
 "cells": [
  {
   "cell_type": "code",
   "execution_count": 1,
   "metadata": {},
   "outputs": [],
   "source": [
    "import pandas as pd\n",
    "import matplotlib.pyplot as plt\n",
    "import numpy as np"
   ]
  },
  {
   "cell_type": "code",
   "execution_count": 2,
   "metadata": {},
   "outputs": [
    {
     "data": {
      "text/html": [
       "<div>\n",
       "<style scoped>\n",
       "    .dataframe tbody tr th:only-of-type {\n",
       "        vertical-align: middle;\n",
       "    }\n",
       "\n",
       "    .dataframe tbody tr th {\n",
       "        vertical-align: top;\n",
       "    }\n",
       "\n",
       "    .dataframe thead th {\n",
       "        text-align: right;\n",
       "    }\n",
       "</style>\n",
       "<table border=\"1\" class=\"dataframe\">\n",
       "  <thead>\n",
       "    <tr style=\"text-align: right;\">\n",
       "      <th></th>\n",
       "      <th>dimCount</th>\n",
       "      <th>scores</th>\n",
       "      <th>eps</th>\n",
       "    </tr>\n",
       "  </thead>\n",
       "  <tbody>\n",
       "    <tr>\n",
       "      <th>0</th>\n",
       "      <td>0</td>\n",
       "      <td>0</td>\n",
       "      <td>0</td>\n",
       "    </tr>\n",
       "    <tr>\n",
       "      <th>1</th>\n",
       "      <td>1</td>\n",
       "      <td>0.717337,1,1,1,1,0.667119,-0.121667,0.789221,1...</td>\n",
       "      <td>0.02,0.02,0.02,0.02,0.02,0.02,0.02,0.02,0.02,0...</td>\n",
       "    </tr>\n",
       "    <tr>\n",
       "      <th>2</th>\n",
       "      <td>2</td>\n",
       "      <td>0.566863,0.144027,0.922849,1,0.913138,0,0.9528...</td>\n",
       "      <td>0.02,0.02,0.02,0.02,0.02,0.02,0.02,0.02,0.02,0...</td>\n",
       "    </tr>\n",
       "    <tr>\n",
       "      <th>3</th>\n",
       "      <td>3</td>\n",
       "      <td>1,1,-0.140563,1,1,1,1,1,1,1,0.933916,0,0.98517...</td>\n",
       "      <td>0.02,0.02,0.02,0.02,0.02,0.02,0.02,0.02,0.02,0...</td>\n",
       "    </tr>\n",
       "    <tr>\n",
       "      <th>4</th>\n",
       "      <td>4</td>\n",
       "      <td>1,0,-0.0926517,1,1,0.519132,1,0.258636,1,1,1,1...</td>\n",
       "      <td>0.02,0.02,0.02,0.02,0.02,0.02,0.02,0.02,0.02,0...</td>\n",
       "    </tr>\n",
       "  </tbody>\n",
       "</table>\n",
       "</div>"
      ],
      "text/plain": [
       "   dimCount                                             scores  \\\n",
       "0         0                                                  0   \n",
       "1         1  0.717337,1,1,1,1,0.667119,-0.121667,0.789221,1...   \n",
       "2         2  0.566863,0.144027,0.922849,1,0.913138,0,0.9528...   \n",
       "3         3  1,1,-0.140563,1,1,1,1,1,1,1,0.933916,0,0.98517...   \n",
       "4         4  1,0,-0.0926517,1,1,0.519132,1,0.258636,1,1,1,1...   \n",
       "\n",
       "                                                 eps  \n",
       "0                                                  0  \n",
       "1  0.02,0.02,0.02,0.02,0.02,0.02,0.02,0.02,0.02,0...  \n",
       "2  0.02,0.02,0.02,0.02,0.02,0.02,0.02,0.02,0.02,0...  \n",
       "3  0.02,0.02,0.02,0.02,0.02,0.02,0.02,0.02,0.02,0...  \n",
       "4  0.02,0.02,0.02,0.02,0.02,0.02,0.02,0.02,0.02,0...  "
      ]
     },
     "execution_count": 2,
     "metadata": {},
     "output_type": "execute_result"
    }
   ],
   "source": [
    "df = pd.read_csv(\"scores.txt\", names=['dimCount', 'scores', 'eps'], sep=\";\")\n",
    "\n",
    "df.head()"
   ]
  },
  {
   "cell_type": "code",
   "execution_count": 3,
   "metadata": {},
   "outputs": [
    {
     "name": "stdout",
     "output_type": "stream",
     "text": [
      "<class 'pandas.core.frame.DataFrame'>\n",
      "RangeIndex: 500 entries, 0 to 499\n",
      "Data columns (total 3 columns):\n",
      " #   Column    Non-Null Count  Dtype \n",
      "---  ------    --------------  ----- \n",
      " 0   dimCount  500 non-null    int64 \n",
      " 1   scores    500 non-null    object\n",
      " 2   eps       500 non-null    object\n",
      "dtypes: int64(1), object(2)\n",
      "memory usage: 11.8+ KB\n"
     ]
    }
   ],
   "source": [
    "df.info()"
   ]
  },
  {
   "cell_type": "code",
   "execution_count": 4,
   "metadata": {},
   "outputs": [],
   "source": [
    "df['scores'] = df['scores'][df['scores'] != '0']\n",
    "df['eps'] = df['eps'][df['eps'] != '0']\n",
    "df = df.dropna()"
   ]
  },
  {
   "cell_type": "code",
   "execution_count": 5,
   "metadata": {},
   "outputs": [
    {
     "data": {
      "text/html": [
       "<div>\n",
       "<style scoped>\n",
       "    .dataframe tbody tr th:only-of-type {\n",
       "        vertical-align: middle;\n",
       "    }\n",
       "\n",
       "    .dataframe tbody tr th {\n",
       "        vertical-align: top;\n",
       "    }\n",
       "\n",
       "    .dataframe thead th {\n",
       "        text-align: right;\n",
       "    }\n",
       "</style>\n",
       "<table border=\"1\" class=\"dataframe\">\n",
       "  <thead>\n",
       "    <tr style=\"text-align: right;\">\n",
       "      <th></th>\n",
       "      <th>dimCount</th>\n",
       "      <th>scores</th>\n",
       "      <th>eps</th>\n",
       "    </tr>\n",
       "  </thead>\n",
       "  <tbody>\n",
       "    <tr>\n",
       "      <th>1</th>\n",
       "      <td>1</td>\n",
       "      <td>0.717337,1,1,1,1,0.667119,-0.121667,0.789221,1...</td>\n",
       "      <td>0.02,0.02,0.02,0.02,0.02,0.02,0.02,0.02,0.02,0...</td>\n",
       "    </tr>\n",
       "    <tr>\n",
       "      <th>2</th>\n",
       "      <td>2</td>\n",
       "      <td>0.566863,0.144027,0.922849,1,0.913138,0,0.9528...</td>\n",
       "      <td>0.02,0.02,0.02,0.02,0.02,0.02,0.02,0.02,0.02,0...</td>\n",
       "    </tr>\n",
       "    <tr>\n",
       "      <th>3</th>\n",
       "      <td>3</td>\n",
       "      <td>1,1,-0.140563,1,1,1,1,1,1,1,0.933916,0,0.98517...</td>\n",
       "      <td>0.02,0.02,0.02,0.02,0.02,0.02,0.02,0.02,0.02,0...</td>\n",
       "    </tr>\n",
       "    <tr>\n",
       "      <th>4</th>\n",
       "      <td>4</td>\n",
       "      <td>1,0,-0.0926517,1,1,0.519132,1,0.258636,1,1,1,1...</td>\n",
       "      <td>0.02,0.02,0.02,0.02,0.02,0.02,0.02,0.02,0.02,0...</td>\n",
       "    </tr>\n",
       "    <tr>\n",
       "      <th>5</th>\n",
       "      <td>5</td>\n",
       "      <td>-0.0547021,1,-0.198762,1,1,1,1,1,1,1,1,1,1,-0....</td>\n",
       "      <td>0.02,0.02,0.02,0.02,0.02,0.02,0.02,0.02,0.02,0...</td>\n",
       "    </tr>\n",
       "    <tr>\n",
       "      <th>6</th>\n",
       "      <td>6</td>\n",
       "      <td>1,1,1,0.341292,1,-0.153471,1,1,-0.225764,1,1,0...</td>\n",
       "      <td>0.02,0.02,0.02,0.02,0.02,0.02,0.02,0.02,0.02,0...</td>\n",
       "    </tr>\n",
       "    <tr>\n",
       "      <th>7</th>\n",
       "      <td>7</td>\n",
       "      <td>1,1,-0.191593,-0.160661,1,0.302766,-0.026825,1...</td>\n",
       "      <td>0.02,0.02,0.02,0.02,0.02,0.02,0.02,0.02,0.02,0...</td>\n",
       "    </tr>\n",
       "    <tr>\n",
       "      <th>8</th>\n",
       "      <td>8</td>\n",
       "      <td>1,1,0.00409673,1,-0.0278676,-0.173593,0.553842</td>\n",
       "      <td>0.02,0.02,0.02,0.02,0.02,0.02,0.02</td>\n",
       "    </tr>\n",
       "  </tbody>\n",
       "</table>\n",
       "</div>"
      ],
      "text/plain": [
       "   dimCount                                             scores  \\\n",
       "1         1  0.717337,1,1,1,1,0.667119,-0.121667,0.789221,1...   \n",
       "2         2  0.566863,0.144027,0.922849,1,0.913138,0,0.9528...   \n",
       "3         3  1,1,-0.140563,1,1,1,1,1,1,1,0.933916,0,0.98517...   \n",
       "4         4  1,0,-0.0926517,1,1,0.519132,1,0.258636,1,1,1,1...   \n",
       "5         5  -0.0547021,1,-0.198762,1,1,1,1,1,1,1,1,1,1,-0....   \n",
       "6         6  1,1,1,0.341292,1,-0.153471,1,1,-0.225764,1,1,0...   \n",
       "7         7  1,1,-0.191593,-0.160661,1,0.302766,-0.026825,1...   \n",
       "8         8     1,1,0.00409673,1,-0.0278676,-0.173593,0.553842   \n",
       "\n",
       "                                                 eps  \n",
       "1  0.02,0.02,0.02,0.02,0.02,0.02,0.02,0.02,0.02,0...  \n",
       "2  0.02,0.02,0.02,0.02,0.02,0.02,0.02,0.02,0.02,0...  \n",
       "3  0.02,0.02,0.02,0.02,0.02,0.02,0.02,0.02,0.02,0...  \n",
       "4  0.02,0.02,0.02,0.02,0.02,0.02,0.02,0.02,0.02,0...  \n",
       "5  0.02,0.02,0.02,0.02,0.02,0.02,0.02,0.02,0.02,0...  \n",
       "6  0.02,0.02,0.02,0.02,0.02,0.02,0.02,0.02,0.02,0...  \n",
       "7  0.02,0.02,0.02,0.02,0.02,0.02,0.02,0.02,0.02,0...  \n",
       "8                 0.02,0.02,0.02,0.02,0.02,0.02,0.02  "
      ]
     },
     "execution_count": 5,
     "metadata": {},
     "output_type": "execute_result"
    }
   ],
   "source": [
    "df.head(30)"
   ]
  },
  {
   "cell_type": "code",
   "execution_count": 6,
   "metadata": {},
   "outputs": [],
   "source": [
    "df['scores'] = df['scores'].map(lambda a: a.split(','))\n",
    "df['eps'] = df['eps'].map(lambda a: a.split(','))"
   ]
  },
  {
   "cell_type": "code",
   "execution_count": 7,
   "metadata": {},
   "outputs": [],
   "source": [
    "df['scores'] = df['scores'].map(lambda a: np.array(a).astype(float))\n",
    "df['eps'] = df['eps'].map(lambda a: np.array(a).astype(float))"
   ]
  },
  {
   "cell_type": "code",
   "execution_count": 8,
   "metadata": {},
   "outputs": [
    {
     "data": {
      "text/html": [
       "<div>\n",
       "<style scoped>\n",
       "    .dataframe tbody tr th:only-of-type {\n",
       "        vertical-align: middle;\n",
       "    }\n",
       "\n",
       "    .dataframe tbody tr th {\n",
       "        vertical-align: top;\n",
       "    }\n",
       "\n",
       "    .dataframe thead th {\n",
       "        text-align: right;\n",
       "    }\n",
       "</style>\n",
       "<table border=\"1\" class=\"dataframe\">\n",
       "  <thead>\n",
       "    <tr style=\"text-align: right;\">\n",
       "      <th></th>\n",
       "      <th>dimCount</th>\n",
       "      <th>scores</th>\n",
       "      <th>eps</th>\n",
       "    </tr>\n",
       "  </thead>\n",
       "  <tbody>\n",
       "    <tr>\n",
       "      <th>1</th>\n",
       "      <td>1</td>\n",
       "      <td>[0.717337, 1.0, 1.0, 1.0, 1.0, 0.667119, -0.12...</td>\n",
       "      <td>[0.02, 0.02, 0.02, 0.02, 0.02, 0.02, 0.02, 0.0...</td>\n",
       "    </tr>\n",
       "    <tr>\n",
       "      <th>2</th>\n",
       "      <td>2</td>\n",
       "      <td>[0.566863, 0.144027, 0.922849, 1.0, 0.913138, ...</td>\n",
       "      <td>[0.02, 0.02, 0.02, 0.02, 0.02, 0.02, 0.02, 0.0...</td>\n",
       "    </tr>\n",
       "    <tr>\n",
       "      <th>3</th>\n",
       "      <td>3</td>\n",
       "      <td>[1.0, 1.0, -0.140563, 1.0, 1.0, 1.0, 1.0, 1.0,...</td>\n",
       "      <td>[0.02, 0.02, 0.02, 0.02, 0.02, 0.02, 0.02, 0.0...</td>\n",
       "    </tr>\n",
       "    <tr>\n",
       "      <th>4</th>\n",
       "      <td>4</td>\n",
       "      <td>[1.0, 0.0, -0.0926517, 1.0, 1.0, 0.519132, 1.0...</td>\n",
       "      <td>[0.02, 0.02, 0.02, 0.02, 0.02, 0.02, 0.02, 0.0...</td>\n",
       "    </tr>\n",
       "    <tr>\n",
       "      <th>5</th>\n",
       "      <td>5</td>\n",
       "      <td>[-0.0547021, 1.0, -0.198762, 1.0, 1.0, 1.0, 1....</td>\n",
       "      <td>[0.02, 0.02, 0.02, 0.02, 0.02, 0.02, 0.02, 0.0...</td>\n",
       "    </tr>\n",
       "  </tbody>\n",
       "</table>\n",
       "</div>"
      ],
      "text/plain": [
       "   dimCount                                             scores  \\\n",
       "1         1  [0.717337, 1.0, 1.0, 1.0, 1.0, 0.667119, -0.12...   \n",
       "2         2  [0.566863, 0.144027, 0.922849, 1.0, 0.913138, ...   \n",
       "3         3  [1.0, 1.0, -0.140563, 1.0, 1.0, 1.0, 1.0, 1.0,...   \n",
       "4         4  [1.0, 0.0, -0.0926517, 1.0, 1.0, 0.519132, 1.0...   \n",
       "5         5  [-0.0547021, 1.0, -0.198762, 1.0, 1.0, 1.0, 1....   \n",
       "\n",
       "                                                 eps  \n",
       "1  [0.02, 0.02, 0.02, 0.02, 0.02, 0.02, 0.02, 0.0...  \n",
       "2  [0.02, 0.02, 0.02, 0.02, 0.02, 0.02, 0.02, 0.0...  \n",
       "3  [0.02, 0.02, 0.02, 0.02, 0.02, 0.02, 0.02, 0.0...  \n",
       "4  [0.02, 0.02, 0.02, 0.02, 0.02, 0.02, 0.02, 0.0...  \n",
       "5  [0.02, 0.02, 0.02, 0.02, 0.02, 0.02, 0.02, 0.0...  "
      ]
     },
     "execution_count": 8,
     "metadata": {},
     "output_type": "execute_result"
    }
   ],
   "source": [
    "df.head()"
   ]
  },
  {
   "cell_type": "code",
   "execution_count": 12,
   "metadata": {},
   "outputs": [
    {
     "data": {
      "image/png": "[encoded data removed]",
      "text/plain": [
       "<Figure size 1080x1080 with 12 Axes>"
      ]
     },
     "metadata": {
      "needs_background": "light"
     },
     "output_type": "display_data"
    }
   ],
   "source": [
    "nEntries = df.shape[0]\n",
    "\n",
    "fig, axs = plt.subplots(int(nEntries / 4 + 1), 4, figsize=(15, 15))\n",
    "\n",
    "i = 0\n",
    "\n",
    "for index, row in df.T.iteritems():\n",
    "    axs[int(i / 4), int(i % 4)].hist(row['scores'], bins=30)\n",
    "\n",
    "    i = i + 1"
   ]
  },
  {
   "cell_type": "code",
   "execution_count": 11,
   "metadata": {},
   "outputs": [
    {
     "data": {
      "text/plain": [
       "(array([     0.,      0.,      0.,      0.,      0.,      0.,      0.,\n",
       "             0.,      0.,      0.,      0.,      0.,      0.,      0.,\n",
       "             0.,      0.,      0.,      0.,      0.,      0.,      0.,\n",
       "             0.,      0.,      0., 328419.,      0.,      0.,      0.,\n",
       "             0.,      0.,      0.,      0.,      0.,      0.,      0.,\n",
       "             0.,      0.,      0.,      0.,      0.,      0.,      0.,\n",
       "             0.,      0.,      0.,      0.,      0.,      0.,      0.,\n",
       "             0.]),\n",
       " array([-0.48, -0.46, -0.44, -0.42, -0.4 , -0.38, -0.36, -0.34, -0.32,\n",
       "        -0.3 , -0.28, -0.26, -0.24, -0.22, -0.2 , -0.18, -0.16, -0.14,\n",
       "        -0.12, -0.1 , -0.08, -0.06, -0.04, -0.02,  0.  ,  0.02,  0.04,\n",
       "         0.06,  0.08,  0.1 ,  0.12,  0.14,  0.16,  0.18,  0.2 ,  0.22,\n",
       "         0.24,  0.26,  0.28,  0.3 ,  0.32,  0.34,  0.36,  0.38,  0.4 ,\n",
       "         0.42,  0.44,  0.46,  0.48,  0.5 ,  0.52]),\n",
       " <BarContainer object of 50 artists>)"
      ]
     },
     "execution_count": 11,
     "metadata": {},
     "output_type": "execute_result"
    },
    {
     "data": {
      "image/png": "[encoded data removed]",
      "text/plain": [
       "<Figure size 432x288 with 1 Axes>"
      ]
     },
     "metadata": {
      "needs_background": "light"
     },
     "output_type": "display_data"
    }
   ],
   "source": [
    "epsilons = []\n",
    "\n",
    "for date, eps in df.iterrows():\n",
    "    epsilons.extend(eps['eps'])\n",
    "\n",
    "plt.hist(epsilons, bins=50)"
   ]
  },
  {
   "cell_type": "code",
   "execution_count": null,
   "metadata": {},
   "outputs": [],
   "source": []
  }
 ],
 "metadata": {
  "kernelspec": {
   "display_name": "Python 3.9.12 ('base')",
   "language": "python",
   "name": "python3"
  },
  "language_info": {
   "codemirror_mode": {
    "name": "ipython",
    "version": 3
   },
   "file_extension": ".py",
   "mimetype": "text/x-python",
   "name": "python",
   "nbconvert_exporter": "python",
   "pygments_lexer": "ipython3",
   "version": "3.9.12"
  },
  "orig_nbformat": 4,
  "vscode": {
   "interpreter": {
    "hash": "844183552d7c3760f32bc1861df9521bcd1c65e774f23bfdea33cc891f184b11"
   }
  }
 },
 "nbformat": 4,
 "nbformat_minor": 2
}
