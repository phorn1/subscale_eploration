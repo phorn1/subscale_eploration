{
 "cells": [
  {
   "cell_type": "code",
   "execution_count": 1,
   "metadata": {},
   "outputs": [],
   "source": [
    "import pandas as pd\n",
    "import matplotlib.pyplot as plt\n",
    "import numpy as np"
   ]
  },
  {
   "cell_type": "code",
   "execution_count": 2,
   "metadata": {},
   "outputs": [
    {
     "data": {
      "text/html": [
       "<div>\n",
       "<style scoped>\n",
       "    .dataframe tbody tr th:only-of-type {\n",
       "        vertical-align: middle;\n",
       "    }\n",
       "\n",
       "    .dataframe tbody tr th {\n",
       "        vertical-align: top;\n",
       "    }\n",
       "\n",
       "    .dataframe thead th {\n",
       "        text-align: right;\n",
       "    }\n",
       "</style>\n",
       "<table border=\"1\" class=\"dataframe\">\n",
       "  <thead>\n",
       "    <tr style=\"text-align: right;\">\n",
       "      <th></th>\n",
       "      <th>dimCount</th>\n",
       "      <th>scores</th>\n",
       "      <th>eps</th>\n",
       "    </tr>\n",
       "  </thead>\n",
       "  <tbody>\n",
       "    <tr>\n",
       "      <th>0</th>\n",
       "      <td>0</td>\n",
       "      <td>0</td>\n",
       "      <td>0</td>\n",
       "    </tr>\n",
       "    <tr>\n",
       "      <th>1</th>\n",
       "      <td>1</td>\n",
       "      <td>1,1,0.843623,0.876792,1,0.596949,0.855827,0.87...</td>\n",
       "      <td>0.012288,0.041472,0.0497664,0.0497664,0.0128,0...</td>\n",
       "    </tr>\n",
       "    <tr>\n",
       "      <th>2</th>\n",
       "      <td>2</td>\n",
       "      <td>0.893487,0.619853,1,0,0.924688,0.972901,0,0.92...</td>\n",
       "      <td>0.0497664,0.0497664,0.016,0.0065536,0.02,0.02,...</td>\n",
       "    </tr>\n",
       "    <tr>\n",
       "      <th>3</th>\n",
       "      <td>3</td>\n",
       "      <td>0.966671,0.948822,0.980801,0,1,0.951076,0.9902...</td>\n",
       "      <td>0.02,0.02,0.02,0.0065536,0.03456,0.02,0.02,0.0...</td>\n",
       "    </tr>\n",
       "    <tr>\n",
       "      <th>4</th>\n",
       "      <td>4</td>\n",
       "      <td>0.84601,0,0,0,0,0,0,0,0.976831,1,0,0.964688,0,...</td>\n",
       "      <td>0.0497664,0.0065536,0.0065536,0.0065536,0.0065...</td>\n",
       "    </tr>\n",
       "  </tbody>\n",
       "</table>\n",
       "</div>"
      ],
      "text/plain": [
       "   dimCount                                             scores  \\\n",
       "0         0                                                  0   \n",
       "1         1  1,1,0.843623,0.876792,1,0.596949,0.855827,0.87...   \n",
       "2         2  0.893487,0.619853,1,0,0.924688,0.972901,0,0.92...   \n",
       "3         3  0.966671,0.948822,0.980801,0,1,0.951076,0.9902...   \n",
       "4         4  0.84601,0,0,0,0,0,0,0,0.976831,1,0,0.964688,0,...   \n",
       "\n",
       "                                                 eps  \n",
       "0                                                  0  \n",
       "1  0.012288,0.041472,0.0497664,0.0497664,0.0128,0...  \n",
       "2  0.0497664,0.0497664,0.016,0.0065536,0.02,0.02,...  \n",
       "3  0.02,0.02,0.02,0.0065536,0.03456,0.02,0.02,0.0...  \n",
       "4  0.0497664,0.0065536,0.0065536,0.0065536,0.0065...  "
      ]
     },
     "execution_count": 2,
     "metadata": {},
     "output_type": "execute_result"
    }
   ],
   "source": [
    "df = pd.read_csv(\"scores.txt\", names=['dimCount', 'scores', 'eps'], sep=\";\")\n",
    "\n",
    "df.head()"
   ]
  },
  {
   "cell_type": "code",
   "execution_count": 3,
   "metadata": {},
   "outputs": [
    {
     "name": "stdout",
     "output_type": "stream",
     "text": [
      "<class 'pandas.core.frame.DataFrame'>\n",
      "RangeIndex: 500 entries, 0 to 499\n",
      "Data columns (total 3 columns):\n",
      " #   Column    Non-Null Count  Dtype \n",
      "---  ------    --------------  ----- \n",
      " 0   dimCount  500 non-null    int64 \n",
      " 1   scores    500 non-null    object\n",
      " 2   eps       500 non-null    object\n",
      "dtypes: int64(1), object(2)\n",
      "memory usage: 11.8+ KB\n"
     ]
    }
   ],
   "source": [
    "df.info()"
   ]
  },
  {
   "cell_type": "code",
   "execution_count": 4,
   "metadata": {},
   "outputs": [],
   "source": [
    "df['scores'] = df['scores'][df['scores'] != '0']\n",
    "df['eps'] = df['eps'][df['eps'] != '0']\n",
    "df = df.dropna()"
   ]
  },
  {
   "cell_type": "code",
   "execution_count": 5,
   "metadata": {},
   "outputs": [
    {
     "data": {
      "text/html": [
       "<div>\n",
       "<style scoped>\n",
       "    .dataframe tbody tr th:only-of-type {\n",
       "        vertical-align: middle;\n",
       "    }\n",
       "\n",
       "    .dataframe tbody tr th {\n",
       "        vertical-align: top;\n",
       "    }\n",
       "\n",
       "    .dataframe thead th {\n",
       "        text-align: right;\n",
       "    }\n",
       "</style>\n",
       "<table border=\"1\" class=\"dataframe\">\n",
       "  <thead>\n",
       "    <tr style=\"text-align: right;\">\n",
       "      <th></th>\n",
       "      <th>dimCount</th>\n",
       "      <th>scores</th>\n",
       "      <th>eps</th>\n",
       "    </tr>\n",
       "  </thead>\n",
       "  <tbody>\n",
       "    <tr>\n",
       "      <th>1</th>\n",
       "      <td>1</td>\n",
       "      <td>1,1,0.843623,0.876792,1,0.596949,0.855827,0.87...</td>\n",
       "      <td>0.012288,0.041472,0.0497664,0.0497664,0.0128,0...</td>\n",
       "    </tr>\n",
       "    <tr>\n",
       "      <th>2</th>\n",
       "      <td>2</td>\n",
       "      <td>0.893487,0.619853,1,0,0.924688,0.972901,0,0.92...</td>\n",
       "      <td>0.0497664,0.0497664,0.016,0.0065536,0.02,0.02,...</td>\n",
       "    </tr>\n",
       "    <tr>\n",
       "      <th>3</th>\n",
       "      <td>3</td>\n",
       "      <td>0.966671,0.948822,0.980801,0,1,0.951076,0.9902...</td>\n",
       "      <td>0.02,0.02,0.02,0.0065536,0.03456,0.02,0.02,0.0...</td>\n",
       "    </tr>\n",
       "    <tr>\n",
       "      <th>4</th>\n",
       "      <td>4</td>\n",
       "      <td>0.84601,0,0,0,0,0,0,0,0.976831,1,0,0.964688,0,...</td>\n",
       "      <td>0.0497664,0.0065536,0.0065536,0.0065536,0.0065...</td>\n",
       "    </tr>\n",
       "    <tr>\n",
       "      <th>5</th>\n",
       "      <td>5</td>\n",
       "      <td>0,0.897428,0,0,0,0,0,0,0,0,0,0,0</td>\n",
       "      <td>0.0065536,0.0497664,0.0065536,0.0065536,0.0065...</td>\n",
       "    </tr>\n",
       "  </tbody>\n",
       "</table>\n",
       "</div>"
      ],
      "text/plain": [
       "   dimCount                                             scores  \\\n",
       "1         1  1,1,0.843623,0.876792,1,0.596949,0.855827,0.87...   \n",
       "2         2  0.893487,0.619853,1,0,0.924688,0.972901,0,0.92...   \n",
       "3         3  0.966671,0.948822,0.980801,0,1,0.951076,0.9902...   \n",
       "4         4  0.84601,0,0,0,0,0,0,0,0.976831,1,0,0.964688,0,...   \n",
       "5         5                   0,0.897428,0,0,0,0,0,0,0,0,0,0,0   \n",
       "\n",
       "                                                 eps  \n",
       "1  0.012288,0.041472,0.0497664,0.0497664,0.0128,0...  \n",
       "2  0.0497664,0.0497664,0.016,0.0065536,0.02,0.02,...  \n",
       "3  0.02,0.02,0.02,0.0065536,0.03456,0.02,0.02,0.0...  \n",
       "4  0.0497664,0.0065536,0.0065536,0.0065536,0.0065...  \n",
       "5  0.0065536,0.0497664,0.0065536,0.0065536,0.0065...  "
      ]
     },
     "execution_count": 5,
     "metadata": {},
     "output_type": "execute_result"
    }
   ],
   "source": [
    "df.head(30)"
   ]
  },
  {
   "cell_type": "code",
   "execution_count": 6,
   "metadata": {},
   "outputs": [],
   "source": [
    "df['scores'] = df['scores'].map(lambda a: a.split(','))\n",
    "df['eps'] = df['eps'].map(lambda a: a.split(','))"
   ]
  },
  {
   "cell_type": "code",
   "execution_count": 7,
   "metadata": {},
   "outputs": [],
   "source": [
    "df['scores'] = df['scores'].map(lambda a: np.array(a).astype(float))\n",
    "df['eps'] = df['eps'].map(lambda a: np.array(a).astype(float))"
   ]
  },
  {
   "cell_type": "code",
   "execution_count": 8,
   "metadata": {},
   "outputs": [
    {
     "data": {
      "text/html": [
       "<div>\n",
       "<style scoped>\n",
       "    .dataframe tbody tr th:only-of-type {\n",
       "        vertical-align: middle;\n",
       "    }\n",
       "\n",
       "    .dataframe tbody tr th {\n",
       "        vertical-align: top;\n",
       "    }\n",
       "\n",
       "    .dataframe thead th {\n",
       "        text-align: right;\n",
       "    }\n",
       "</style>\n",
       "<table border=\"1\" class=\"dataframe\">\n",
       "  <thead>\n",
       "    <tr style=\"text-align: right;\">\n",
       "      <th></th>\n",
       "      <th>dimCount</th>\n",
       "      <th>scores</th>\n",
       "      <th>eps</th>\n",
       "    </tr>\n",
       "  </thead>\n",
       "  <tbody>\n",
       "    <tr>\n",
       "      <th>1</th>\n",
       "      <td>1</td>\n",
       "      <td>[1.0, 1.0, 0.843623, 0.876792, 1.0, 0.596949, ...</td>\n",
       "      <td>[0.012288, 0.041472, 0.0497664, 0.0497664, 0.0...</td>\n",
       "    </tr>\n",
       "    <tr>\n",
       "      <th>2</th>\n",
       "      <td>2</td>\n",
       "      <td>[0.893487, 0.619853, 1.0, 0.0, 0.924688, 0.972...</td>\n",
       "      <td>[0.0497664, 0.0497664, 0.016, 0.0065536, 0.02,...</td>\n",
       "    </tr>\n",
       "    <tr>\n",
       "      <th>3</th>\n",
       "      <td>3</td>\n",
       "      <td>[0.966671, 0.948822, 0.980801, 0.0, 1.0, 0.951...</td>\n",
       "      <td>[0.02, 0.02, 0.02, 0.0065536, 0.03456, 0.02, 0...</td>\n",
       "    </tr>\n",
       "    <tr>\n",
       "      <th>4</th>\n",
       "      <td>4</td>\n",
       "      <td>[0.84601, 0.0, 0.0, 0.0, 0.0, 0.0, 0.0, 0.0, 0...</td>\n",
       "      <td>[0.0497664, 0.0065536, 0.0065536, 0.0065536, 0...</td>\n",
       "    </tr>\n",
       "    <tr>\n",
       "      <th>5</th>\n",
       "      <td>5</td>\n",
       "      <td>[0.0, 0.897428, 0.0, 0.0, 0.0, 0.0, 0.0, 0.0, ...</td>\n",
       "      <td>[0.0065536, 0.0497664, 0.0065536, 0.0065536, 0...</td>\n",
       "    </tr>\n",
       "  </tbody>\n",
       "</table>\n",
       "</div>"
      ],
      "text/plain": [
       "   dimCount                                             scores  \\\n",
       "1         1  [1.0, 1.0, 0.843623, 0.876792, 1.0, 0.596949, ...   \n",
       "2         2  [0.893487, 0.619853, 1.0, 0.0, 0.924688, 0.972...   \n",
       "3         3  [0.966671, 0.948822, 0.980801, 0.0, 1.0, 0.951...   \n",
       "4         4  [0.84601, 0.0, 0.0, 0.0, 0.0, 0.0, 0.0, 0.0, 0...   \n",
       "5         5  [0.0, 0.897428, 0.0, 0.0, 0.0, 0.0, 0.0, 0.0, ...   \n",
       "\n",
       "                                                 eps  \n",
       "1  [0.012288, 0.041472, 0.0497664, 0.0497664, 0.0...  \n",
       "2  [0.0497664, 0.0497664, 0.016, 0.0065536, 0.02,...  \n",
       "3  [0.02, 0.02, 0.02, 0.0065536, 0.03456, 0.02, 0...  \n",
       "4  [0.0497664, 0.0065536, 0.0065536, 0.0065536, 0...  \n",
       "5  [0.0065536, 0.0497664, 0.0065536, 0.0065536, 0...  "
      ]
     },
     "execution_count": 8,
     "metadata": {},
     "output_type": "execute_result"
    }
   ],
   "source": [
    "df.head()"
   ]
  },
  {
   "cell_type": "code",
   "execution_count": 9,
   "metadata": {},
   "outputs": [
    {
     "data": {
      "image/png": "[encoded data removed]",
      "text/plain": [
       "<Figure size 1080x1080 with 8 Axes>"
      ]
     },
     "metadata": {
      "needs_background": "light"
     },
     "output_type": "display_data"
    }
   ],
   "source": [
    "nEntries = df.shape[0]\n",
    "plotsPerRow = 4\n",
    "if plotsPerRow > nEntries:\n",
    "    plotsPerRow = nEntries\n",
    "\n",
    "fig, axs = plt.subplots(int(nEntries / plotsPerRow + 1), plotsPerRow, figsize=(15, 15))\n",
    "\n",
    "i = 0\n",
    "\n",
    "for index, row in df.T.iteritems():\n",
    "    axs[int(i / plotsPerRow), int(i % plotsPerRow)].hist(row['scores'], bins=30)\n",
    "\n",
    "    i = i + 1"
   ]
  },
  {
   "cell_type": "code",
   "execution_count": 10,
   "metadata": {},
   "outputs": [
    {
     "data": {
      "text/plain": [
       "(array([8.1800e+03, 7.5000e+01, 0.0000e+00, 7.3000e+01, 1.7400e+02,\n",
       "        0.0000e+00, 1.0500e+02, 5.4500e+02, 0.0000e+00, 1.6400e+02,\n",
       "        1.3140e+03, 0.0000e+00, 0.0000e+00, 8.0000e+00, 5.5000e+01,\n",
       "        2.6175e+04, 0.0000e+00, 0.0000e+00, 1.6300e+02, 5.7000e+01,\n",
       "        2.0300e+03, 0.0000e+00, 0.0000e+00, 0.0000e+00, 2.8000e+01,\n",
       "        6.7800e+02, 0.0000e+00, 0.0000e+00, 0.0000e+00, 0.0000e+00,\n",
       "        3.8800e+02, 0.0000e+00, 7.0300e+02, 0.0000e+00, 0.0000e+00,\n",
       "        0.0000e+00, 0.0000e+00, 0.0000e+00, 0.0000e+00, 0.0000e+00,\n",
       "        8.8300e+02, 0.0000e+00, 0.0000e+00, 0.0000e+00, 0.0000e+00,\n",
       "        0.0000e+00, 0.0000e+00, 0.0000e+00, 0.0000e+00, 2.4631e+04]),\n",
       " array([0.0065536 , 0.00741786, 0.00828211, 0.00914637, 0.01001062,\n",
       "        0.01087488, 0.01173914, 0.01260339, 0.01346765, 0.0143319 ,\n",
       "        0.01519616, 0.01606042, 0.01692467, 0.01778893, 0.01865318,\n",
       "        0.01951744, 0.0203817 , 0.02124595, 0.02211021, 0.02297446,\n",
       "        0.02383872, 0.02470298, 0.02556723, 0.02643149, 0.02729574,\n",
       "        0.02816   , 0.02902426, 0.02988851, 0.03075277, 0.03161702,\n",
       "        0.03248128, 0.03334554, 0.03420979, 0.03507405, 0.0359383 ,\n",
       "        0.03680256, 0.03766682, 0.03853107, 0.03939533, 0.04025958,\n",
       "        0.04112384, 0.0419881 , 0.04285235, 0.04371661, 0.04458086,\n",
       "        0.04544512, 0.04630938, 0.04717363, 0.04803789, 0.04890214,\n",
       "        0.0497664 ]),\n",
       " <BarContainer object of 50 artists>)"
      ]
     },
     "execution_count": 10,
     "metadata": {},
     "output_type": "execute_result"
    },
    {
     "data": {
      "image/png": "[encoded data removed]",
      "text/plain": [
       "<Figure size 432x288 with 1 Axes>"
      ]
     },
     "metadata": {
      "needs_background": "light"
     },
     "output_type": "display_data"
    }
   ],
   "source": [
    "epsilons = []\n",
    "\n",
    "for date, eps in df.iterrows():\n",
    "    epsilons.extend(eps['eps'])\n",
    "\n",
    "plt.hist(epsilons, bins=50)"
   ]
  },
  {
   "cell_type": "code",
   "execution_count": 11,
   "metadata": {},
   "outputs": [
    {
     "name": "stdout",
     "output_type": "stream",
     "text": [
      "Total Scores: 66429\n"
     ]
    }
   ],
   "source": [
    "counter = 0\n",
    "\n",
    "for scores in df['scores']:\n",
    "    counter = counter + len(scores)\n",
    "\n",
    "print(\"Total Scores: \" + str(counter))"
   ]
  },
  {
   "cell_type": "code",
   "execution_count": 12,
   "metadata": {},
   "outputs": [
    {
     "name": "stdout",
     "output_type": "stream",
     "text": [
      "Average score: 0.7757937236949224\n"
     ]
    }
   ],
   "source": [
    "sum = 0\n",
    "\n",
    "for scores in df['scores']:\n",
    "    sum = sum + scores.sum()\n",
    "\n",
    "print(\"Average score: \" + str(sum / counter))"
   ]
  }
 ],
 "metadata": {
  "kernelspec": {
   "display_name": "Python 3.9.12 ('base')",
   "language": "python",
   "name": "python3"
  },
  "language_info": {
   "codemirror_mode": {
    "name": "ipython",
    "version": 3
   },
   "file_extension": ".py",
   "mimetype": "text/x-python",
   "name": "python",
   "nbconvert_exporter": "python",
   "pygments_lexer": "ipython3",
   "version": "3.9.12"
  },
  "orig_nbformat": 4,
  "vscode": {
   "interpreter": {
    "hash": "844183552d7c3760f32bc1861df9521bcd1c65e774f23bfdea33cc891f184b11"
   }
  }
 },
 "nbformat": 4,
 "nbformat_minor": 2
}
