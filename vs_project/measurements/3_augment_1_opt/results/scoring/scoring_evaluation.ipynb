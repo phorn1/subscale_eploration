{
 "cells": [
  {
   "cell_type": "code",
   "execution_count": 12,
   "metadata": {},
   "outputs": [],
   "source": [
    "import pandas as pd\n",
    "import matplotlib.pyplot as plt\n",
    "import numpy as np"
   ]
  },
  {
   "cell_type": "code",
   "execution_count": 13,
   "metadata": {},
   "outputs": [
    {
     "data": {
      "text/html": [
       "<div>\n",
       "<style scoped>\n",
       "    .dataframe tbody tr th:only-of-type {\n",
       "        vertical-align: middle;\n",
       "    }\n",
       "\n",
       "    .dataframe tbody tr th {\n",
       "        vertical-align: top;\n",
       "    }\n",
       "\n",
       "    .dataframe thead th {\n",
       "        text-align: right;\n",
       "    }\n",
       "</style>\n",
       "<table border=\"1\" class=\"dataframe\">\n",
       "  <thead>\n",
       "    <tr style=\"text-align: right;\">\n",
       "      <th></th>\n",
       "      <th>dimCount</th>\n",
       "      <th>scores</th>\n",
       "      <th>eps</th>\n",
       "    </tr>\n",
       "  </thead>\n",
       "  <tbody>\n",
       "    <tr>\n",
       "      <th>0</th>\n",
       "      <td>0</td>\n",
       "      <td>0</td>\n",
       "      <td>0</td>\n",
       "    </tr>\n",
       "    <tr>\n",
       "      <th>1</th>\n",
       "      <td>1</td>\n",
       "      <td>0.999616,0.999614,0.999102,0.999756,0.999717,0...</td>\n",
       "      <td>0.02,0.02,0.02,0.02,0.02,0.02,0.02,0.02,0.02,0...</td>\n",
       "    </tr>\n",
       "    <tr>\n",
       "      <th>2</th>\n",
       "      <td>2</td>\n",
       "      <td>0.999758,0.999821,0.999913,0.999753,0.924808,0...</td>\n",
       "      <td>0.02,0.02,0.02,0.024,0.02,0.02,0.02,0.0288,0.0...</td>\n",
       "    </tr>\n",
       "    <tr>\n",
       "      <th>3</th>\n",
       "      <td>3</td>\n",
       "      <td>0.93516,0.931927,0.99987,0.99986,0.901431,0.99...</td>\n",
       "      <td>0.02,0.02,0.024,0.02,0.024,0.02,0.0288,0.024,0...</td>\n",
       "    </tr>\n",
       "    <tr>\n",
       "      <th>4</th>\n",
       "      <td>4</td>\n",
       "      <td>0.938266,0.9998,0.999826,0.999837,0.911525,0.9...</td>\n",
       "      <td>0.024,0.0288,0.0288,0.024,0.024,0.024,0.0288,0...</td>\n",
       "    </tr>\n",
       "  </tbody>\n",
       "</table>\n",
       "</div>"
      ],
      "text/plain": [
       "   dimCount                                             scores  \\\n",
       "0         0                                                  0   \n",
       "1         1  0.999616,0.999614,0.999102,0.999756,0.999717,0...   \n",
       "2         2  0.999758,0.999821,0.999913,0.999753,0.924808,0...   \n",
       "3         3  0.93516,0.931927,0.99987,0.99986,0.901431,0.99...   \n",
       "4         4  0.938266,0.9998,0.999826,0.999837,0.911525,0.9...   \n",
       "\n",
       "                                                 eps  \n",
       "0                                                  0  \n",
       "1  0.02,0.02,0.02,0.02,0.02,0.02,0.02,0.02,0.02,0...  \n",
       "2  0.02,0.02,0.02,0.024,0.02,0.02,0.02,0.0288,0.0...  \n",
       "3  0.02,0.02,0.024,0.02,0.024,0.02,0.0288,0.024,0...  \n",
       "4  0.024,0.0288,0.0288,0.024,0.024,0.024,0.0288,0...  "
      ]
     },
     "execution_count": 13,
     "metadata": {},
     "output_type": "execute_result"
    }
   ],
   "source": [
    "df = pd.read_csv(\"scores.txt\", names=['dimCount', 'scores', 'eps'], sep=\";\")\n",
    "\n",
    "df.head()"
   ]
  },
  {
   "cell_type": "code",
   "execution_count": 14,
   "metadata": {},
   "outputs": [
    {
     "name": "stdout",
     "output_type": "stream",
     "text": [
      "<class 'pandas.core.frame.DataFrame'>\n",
      "RangeIndex: 200 entries, 0 to 199\n",
      "Data columns (total 3 columns):\n",
      " #   Column    Non-Null Count  Dtype \n",
      "---  ------    --------------  ----- \n",
      " 0   dimCount  200 non-null    int64 \n",
      " 1   scores    200 non-null    object\n",
      " 2   eps       200 non-null    object\n",
      "dtypes: int64(1), object(2)\n",
      "memory usage: 4.8+ KB\n"
     ]
    }
   ],
   "source": [
    "df.info()"
   ]
  },
  {
   "cell_type": "code",
   "execution_count": 15,
   "metadata": {},
   "outputs": [],
   "source": [
    "df['scores'] = df['scores'][df['scores'] != '0']\n",
    "df['eps'] = df['eps'][df['eps'] != '0']\n",
    "df = df.dropna()"
   ]
  },
  {
   "cell_type": "code",
   "execution_count": 16,
   "metadata": {},
   "outputs": [
    {
     "data": {
      "text/html": [
       "<div>\n",
       "<style scoped>\n",
       "    .dataframe tbody tr th:only-of-type {\n",
       "        vertical-align: middle;\n",
       "    }\n",
       "\n",
       "    .dataframe tbody tr th {\n",
       "        vertical-align: top;\n",
       "    }\n",
       "\n",
       "    .dataframe thead th {\n",
       "        text-align: right;\n",
       "    }\n",
       "</style>\n",
       "<table border=\"1\" class=\"dataframe\">\n",
       "  <thead>\n",
       "    <tr style=\"text-align: right;\">\n",
       "      <th></th>\n",
       "      <th>dimCount</th>\n",
       "      <th>scores</th>\n",
       "      <th>eps</th>\n",
       "    </tr>\n",
       "  </thead>\n",
       "  <tbody>\n",
       "    <tr>\n",
       "      <th>1</th>\n",
       "      <td>1</td>\n",
       "      <td>0.999616,0.999614,0.999102,0.999756,0.999717,0...</td>\n",
       "      <td>0.02,0.02,0.02,0.02,0.02,0.02,0.02,0.02,0.02,0...</td>\n",
       "    </tr>\n",
       "    <tr>\n",
       "      <th>2</th>\n",
       "      <td>2</td>\n",
       "      <td>0.999758,0.999821,0.999913,0.999753,0.924808,0...</td>\n",
       "      <td>0.02,0.02,0.02,0.024,0.02,0.02,0.02,0.0288,0.0...</td>\n",
       "    </tr>\n",
       "    <tr>\n",
       "      <th>3</th>\n",
       "      <td>3</td>\n",
       "      <td>0.93516,0.931927,0.99987,0.99986,0.901431,0.99...</td>\n",
       "      <td>0.02,0.02,0.024,0.02,0.024,0.02,0.0288,0.024,0...</td>\n",
       "    </tr>\n",
       "    <tr>\n",
       "      <th>4</th>\n",
       "      <td>4</td>\n",
       "      <td>0.938266,0.9998,0.999826,0.999837,0.911525,0.9...</td>\n",
       "      <td>0.024,0.0288,0.0288,0.024,0.024,0.024,0.0288,0...</td>\n",
       "    </tr>\n",
       "    <tr>\n",
       "      <th>5</th>\n",
       "      <td>5</td>\n",
       "      <td>0.999822,1,1,0.99985,0.999874,1,0.999806,0.999...</td>\n",
       "      <td>0.0288,0.0128,0.016,0.0288,0.0288,0.0128,0.028...</td>\n",
       "    </tr>\n",
       "    <tr>\n",
       "      <th>6</th>\n",
       "      <td>6</td>\n",
       "      <td>1,1,1,1,1,1,1,1,1,1,1,1,1,1,1,1,1,1,1,1,1,1,1,...</td>\n",
       "      <td>0.0128,0.0128,0.016,0.0128,0.0128,0.0128,0.016...</td>\n",
       "    </tr>\n",
       "    <tr>\n",
       "      <th>7</th>\n",
       "      <td>7</td>\n",
       "      <td>1,1,1,1,1,1,1,1,1,1,1,1,1</td>\n",
       "      <td>0.016,0.016,0.016,0.016,0.016,0.0128,0.016,0.0...</td>\n",
       "    </tr>\n",
       "  </tbody>\n",
       "</table>\n",
       "</div>"
      ],
      "text/plain": [
       "   dimCount                                             scores  \\\n",
       "1         1  0.999616,0.999614,0.999102,0.999756,0.999717,0...   \n",
       "2         2  0.999758,0.999821,0.999913,0.999753,0.924808,0...   \n",
       "3         3  0.93516,0.931927,0.99987,0.99986,0.901431,0.99...   \n",
       "4         4  0.938266,0.9998,0.999826,0.999837,0.911525,0.9...   \n",
       "5         5  0.999822,1,1,0.99985,0.999874,1,0.999806,0.999...   \n",
       "6         6  1,1,1,1,1,1,1,1,1,1,1,1,1,1,1,1,1,1,1,1,1,1,1,...   \n",
       "7         7                          1,1,1,1,1,1,1,1,1,1,1,1,1   \n",
       "\n",
       "                                                 eps  \n",
       "1  0.02,0.02,0.02,0.02,0.02,0.02,0.02,0.02,0.02,0...  \n",
       "2  0.02,0.02,0.02,0.024,0.02,0.02,0.02,0.0288,0.0...  \n",
       "3  0.02,0.02,0.024,0.02,0.024,0.02,0.0288,0.024,0...  \n",
       "4  0.024,0.0288,0.0288,0.024,0.024,0.024,0.0288,0...  \n",
       "5  0.0288,0.0128,0.016,0.0288,0.0288,0.0128,0.028...  \n",
       "6  0.0128,0.0128,0.016,0.0128,0.0128,0.0128,0.016...  \n",
       "7  0.016,0.016,0.016,0.016,0.016,0.0128,0.016,0.0...  "
      ]
     },
     "execution_count": 16,
     "metadata": {},
     "output_type": "execute_result"
    }
   ],
   "source": [
    "df.head(30)"
   ]
  },
  {
   "cell_type": "code",
   "execution_count": 17,
   "metadata": {},
   "outputs": [],
   "source": [
    "df['scores'] = df['scores'].map(lambda a: a.split(','))\n",
    "df['eps'] = df['eps'].map(lambda a: a.split(','))"
   ]
  },
  {
   "cell_type": "code",
   "execution_count": 18,
   "metadata": {},
   "outputs": [],
   "source": [
    "df['scores'] = df['scores'].map(lambda a: np.array(a).astype(float))\n",
    "df['eps'] = df['eps'].map(lambda a: np.array(a).astype(float))"
   ]
  },
  {
   "cell_type": "code",
   "execution_count": 19,
   "metadata": {},
   "outputs": [
    {
     "data": {
      "text/html": [
       "<div>\n",
       "<style scoped>\n",
       "    .dataframe tbody tr th:only-of-type {\n",
       "        vertical-align: middle;\n",
       "    }\n",
       "\n",
       "    .dataframe tbody tr th {\n",
       "        vertical-align: top;\n",
       "    }\n",
       "\n",
       "    .dataframe thead th {\n",
       "        text-align: right;\n",
       "    }\n",
       "</style>\n",
       "<table border=\"1\" class=\"dataframe\">\n",
       "  <thead>\n",
       "    <tr style=\"text-align: right;\">\n",
       "      <th></th>\n",
       "      <th>dimCount</th>\n",
       "      <th>scores</th>\n",
       "      <th>eps</th>\n",
       "    </tr>\n",
       "  </thead>\n",
       "  <tbody>\n",
       "    <tr>\n",
       "      <th>1</th>\n",
       "      <td>1</td>\n",
       "      <td>[0.999616, 0.999614, 0.999102, 0.999756, 0.999...</td>\n",
       "      <td>[0.02, 0.02, 0.02, 0.02, 0.02, 0.02, 0.02, 0.0...</td>\n",
       "    </tr>\n",
       "    <tr>\n",
       "      <th>2</th>\n",
       "      <td>2</td>\n",
       "      <td>[0.999758, 0.999821, 0.999913, 0.999753, 0.924...</td>\n",
       "      <td>[0.02, 0.02, 0.02, 0.024, 0.02, 0.02, 0.02, 0....</td>\n",
       "    </tr>\n",
       "    <tr>\n",
       "      <th>3</th>\n",
       "      <td>3</td>\n",
       "      <td>[0.93516, 0.931927, 0.99987, 0.99986, 0.901431...</td>\n",
       "      <td>[0.02, 0.02, 0.024, 0.02, 0.024, 0.02, 0.0288,...</td>\n",
       "    </tr>\n",
       "    <tr>\n",
       "      <th>4</th>\n",
       "      <td>4</td>\n",
       "      <td>[0.938266, 0.9998, 0.999826, 0.999837, 0.91152...</td>\n",
       "      <td>[0.024, 0.0288, 0.0288, 0.024, 0.024, 0.024, 0...</td>\n",
       "    </tr>\n",
       "    <tr>\n",
       "      <th>5</th>\n",
       "      <td>5</td>\n",
       "      <td>[0.999822, 1.0, 1.0, 0.99985, 0.999874, 1.0, 0...</td>\n",
       "      <td>[0.0288, 0.0128, 0.016, 0.0288, 0.0288, 0.0128...</td>\n",
       "    </tr>\n",
       "  </tbody>\n",
       "</table>\n",
       "</div>"
      ],
      "text/plain": [
       "   dimCount                                             scores  \\\n",
       "1         1  [0.999616, 0.999614, 0.999102, 0.999756, 0.999...   \n",
       "2         2  [0.999758, 0.999821, 0.999913, 0.999753, 0.924...   \n",
       "3         3  [0.93516, 0.931927, 0.99987, 0.99986, 0.901431...   \n",
       "4         4  [0.938266, 0.9998, 0.999826, 0.999837, 0.91152...   \n",
       "5         5  [0.999822, 1.0, 1.0, 0.99985, 0.999874, 1.0, 0...   \n",
       "\n",
       "                                                 eps  \n",
       "1  [0.02, 0.02, 0.02, 0.02, 0.02, 0.02, 0.02, 0.0...  \n",
       "2  [0.02, 0.02, 0.02, 0.024, 0.02, 0.02, 0.02, 0....  \n",
       "3  [0.02, 0.02, 0.024, 0.02, 0.024, 0.02, 0.0288,...  \n",
       "4  [0.024, 0.0288, 0.0288, 0.024, 0.024, 0.024, 0...  \n",
       "5  [0.0288, 0.0128, 0.016, 0.0288, 0.0288, 0.0128...  "
      ]
     },
     "execution_count": 19,
     "metadata": {},
     "output_type": "execute_result"
    }
   ],
   "source": [
    "df.head()"
   ]
  },
  {
   "cell_type": "code",
   "execution_count": 20,
   "metadata": {},
   "outputs": [
    {
     "data": {
      "image/png": "[encoded data removed]",
      "text/plain": [
       "<Figure size 1080x1080 with 8 Axes>"
      ]
     },
     "metadata": {
      "needs_background": "light"
     },
     "output_type": "display_data"
    }
   ],
   "source": [
    "nEntries = df.shape[0]\n",
    "\n",
    "fig, axs = plt.subplots(int(nEntries / 4 + 1), 4, figsize=(15, 15))\n",
    "\n",
    "i = 0\n",
    "\n",
    "for index, row in df.T.iteritems():\n",
    "    axs[int(i / 4), int(i % 4)].hist(row['scores'], bins=30)\n",
    "\n",
    "    i = i + 1"
   ]
  },
  {
   "cell_type": "code",
   "execution_count": 21,
   "metadata": {},
   "outputs": [
    {
     "data": {
      "text/plain": [
       "(array([ 13.,   0.,   0.,   2., 118.,   0.,   0.,   0.,   0., 103.,   0.,\n",
       "          0.,   0.,   0.,   0., 200.,   0.,   0.,   0.,   0.,   0.,   0.,\n",
       "        297.,   0.,   0.,   0.,   0.,   1.,   0., 175.,   0.,   0.,   0.,\n",
       "          0.,   0.,   0.,   0.,   0.,  23.,   0.,   0.,   0.,   0.,   0.,\n",
       "          0.,   0.,   0.,   0.,   0.,   2.]),\n",
       " array([0.01024   , 0.01086464, 0.01148928, 0.01211392, 0.01273856,\n",
       "        0.0133632 , 0.01398784, 0.01461248, 0.01523712, 0.01586176,\n",
       "        0.0164864 , 0.01711104, 0.01773568, 0.01836032, 0.01898496,\n",
       "        0.0196096 , 0.02023424, 0.02085888, 0.02148352, 0.02210816,\n",
       "        0.0227328 , 0.02335744, 0.02398208, 0.02460672, 0.02523136,\n",
       "        0.025856  , 0.02648064, 0.02710528, 0.02772992, 0.02835456,\n",
       "        0.0289792 , 0.02960384, 0.03022848, 0.03085312, 0.03147776,\n",
       "        0.0321024 , 0.03272704, 0.03335168, 0.03397632, 0.03460096,\n",
       "        0.0352256 , 0.03585024, 0.03647488, 0.03709952, 0.03772416,\n",
       "        0.0383488 , 0.03897344, 0.03959808, 0.04022272, 0.04084736,\n",
       "        0.041472  ]),\n",
       " <BarContainer object of 50 artists>)"
      ]
     },
     "execution_count": 21,
     "metadata": {},
     "output_type": "execute_result"
    },
    {
     "data": {
      "image/png": "[encoded data removed]",
      "text/plain": [
       "<Figure size 432x288 with 1 Axes>"
      ]
     },
     "metadata": {
      "needs_background": "light"
     },
     "output_type": "display_data"
    }
   ],
   "source": [
    "epsilons = []\n",
    "\n",
    "for date, eps in df.iterrows():\n",
    "    epsilons.extend(eps['eps'])\n",
    "\n",
    "plt.hist(epsilons, bins=50)"
   ]
  },
  {
   "cell_type": "code",
   "execution_count": 22,
   "metadata": {},
   "outputs": [
    {
     "name": "stdout",
     "output_type": "stream",
     "text": [
      "Total Scores: 934\n"
     ]
    }
   ],
   "source": [
    "counter = 0\n",
    "\n",
    "for scores in df['scores']:\n",
    "    counter = counter + len(scores)\n",
    "\n",
    "print(\"Total Scores: \" + str(counter))"
   ]
  }
 ],
 "metadata": {
  "kernelspec": {
   "display_name": "Python 3.9.12 ('base')",
   "language": "python",
   "name": "python3"
  },
  "language_info": {
   "codemirror_mode": {
    "name": "ipython",
    "version": 3
   },
   "file_extension": ".py",
   "mimetype": "text/x-python",
   "name": "python",
   "nbconvert_exporter": "python",
   "pygments_lexer": "ipython3",
   "version": "3.9.12"
  },
  "orig_nbformat": 4,
  "vscode": {
   "interpreter": {
    "hash": "844183552d7c3760f32bc1861df9521bcd1c65e774f23bfdea33cc891f184b11"
   }
  }
 },
 "nbformat": 4,
 "nbformat_minor": 2
}
