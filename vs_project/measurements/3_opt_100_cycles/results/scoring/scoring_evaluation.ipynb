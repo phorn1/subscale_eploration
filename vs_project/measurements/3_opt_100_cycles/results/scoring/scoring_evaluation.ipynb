{
 "cells": [
  {
   "cell_type": "code",
   "execution_count": 1,
   "metadata": {},
   "outputs": [],
   "source": [
    "import pandas as pd\n",
    "import matplotlib.pyplot as plt\n",
    "import numpy as np"
   ]
  },
  {
   "cell_type": "code",
   "execution_count": 2,
   "metadata": {},
   "outputs": [
    {
     "data": {
      "text/html": [
       "<div>\n",
       "<style scoped>\n",
       "    .dataframe tbody tr th:only-of-type {\n",
       "        vertical-align: middle;\n",
       "    }\n",
       "\n",
       "    .dataframe tbody tr th {\n",
       "        vertical-align: top;\n",
       "    }\n",
       "\n",
       "    .dataframe thead th {\n",
       "        text-align: right;\n",
       "    }\n",
       "</style>\n",
       "<table border=\"1\" class=\"dataframe\">\n",
       "  <thead>\n",
       "    <tr style=\"text-align: right;\">\n",
       "      <th></th>\n",
       "      <th>dimCount</th>\n",
       "      <th>scores</th>\n",
       "      <th>eps</th>\n",
       "    </tr>\n",
       "  </thead>\n",
       "  <tbody>\n",
       "    <tr>\n",
       "      <th>0</th>\n",
       "      <td>0</td>\n",
       "      <td>0</td>\n",
       "      <td>0</td>\n",
       "    </tr>\n",
       "    <tr>\n",
       "      <th>1</th>\n",
       "      <td>1</td>\n",
       "      <td>0.931335,0.932748,1,1,1,0.959922,0.909124,1,1,...</td>\n",
       "      <td>0.02,0.0288,0.148602,0.123835,0.103196,0.02,0....</td>\n",
       "    </tr>\n",
       "    <tr>\n",
       "      <th>2</th>\n",
       "      <td>2</td>\n",
       "      <td>0.908069,0,0.972901,0.941415,0,1,0.937807,0.90...</td>\n",
       "      <td>0.02,4.07407e-12,0.02,0.02,4.07407e-12,0.14860...</td>\n",
       "    </tr>\n",
       "    <tr>\n",
       "      <th>3</th>\n",
       "      <td>3</td>\n",
       "      <td>1,0,0,0.94027,0.955859,0.936421,0,0.951076,0.9...</td>\n",
       "      <td>0.123835,4.07407e-12,4.07407e-12,0.02,0.02,0.0...</td>\n",
       "    </tr>\n",
       "    <tr>\n",
       "      <th>4</th>\n",
       "      <td>4</td>\n",
       "      <td>1,0,1,0,0,0,0.976831,0,0,0,0,0,1,0,0,0.964688,...</td>\n",
       "      <td>0.0288,4.07407e-12,0.0597197,4.07407e-12,4.074...</td>\n",
       "    </tr>\n",
       "  </tbody>\n",
       "</table>\n",
       "</div>"
      ],
      "text/plain": [
       "   dimCount                                             scores  \\\n",
       "0         0                                                  0   \n",
       "1         1  0.931335,0.932748,1,1,1,0.959922,0.909124,1,1,...   \n",
       "2         2  0.908069,0,0.972901,0.941415,0,1,0.937807,0.90...   \n",
       "3         3  1,0,0,0.94027,0.955859,0.936421,0,0.951076,0.9...   \n",
       "4         4  1,0,1,0,0,0,0.976831,0,0,0,0,0,1,0,0,0.964688,...   \n",
       "\n",
       "                                                 eps  \n",
       "0                                                  0  \n",
       "1  0.02,0.0288,0.148602,0.123835,0.103196,0.02,0....  \n",
       "2  0.02,4.07407e-12,0.02,0.02,4.07407e-12,0.14860...  \n",
       "3  0.123835,4.07407e-12,4.07407e-12,0.02,0.02,0.0...  \n",
       "4  0.0288,4.07407e-12,0.0597197,4.07407e-12,4.074...  "
      ]
     },
     "execution_count": 2,
     "metadata": {},
     "output_type": "execute_result"
    }
   ],
   "source": [
    "df = pd.read_csv(\"scores.txt\", names=['dimCount', 'scores', 'eps'], sep=\";\")\n",
    "\n",
    "df.head()"
   ]
  },
  {
   "cell_type": "code",
   "execution_count": 3,
   "metadata": {},
   "outputs": [
    {
     "name": "stdout",
     "output_type": "stream",
     "text": [
      "<class 'pandas.core.frame.DataFrame'>\n",
      "RangeIndex: 500 entries, 0 to 499\n",
      "Data columns (total 3 columns):\n",
      " #   Column    Non-Null Count  Dtype \n",
      "---  ------    --------------  ----- \n",
      " 0   dimCount  500 non-null    int64 \n",
      " 1   scores    500 non-null    object\n",
      " 2   eps       500 non-null    object\n",
      "dtypes: int64(1), object(2)\n",
      "memory usage: 11.8+ KB\n"
     ]
    }
   ],
   "source": [
    "df.info()"
   ]
  },
  {
   "cell_type": "code",
   "execution_count": 4,
   "metadata": {},
   "outputs": [],
   "source": [
    "df['scores'] = df['scores'][df['scores'] != '0']\n",
    "df['eps'] = df['eps'][df['eps'] != '0']\n",
    "df = df.dropna()"
   ]
  },
  {
   "cell_type": "code",
   "execution_count": 5,
   "metadata": {},
   "outputs": [
    {
     "data": {
      "text/html": [
       "<div>\n",
       "<style scoped>\n",
       "    .dataframe tbody tr th:only-of-type {\n",
       "        vertical-align: middle;\n",
       "    }\n",
       "\n",
       "    .dataframe tbody tr th {\n",
       "        vertical-align: top;\n",
       "    }\n",
       "\n",
       "    .dataframe thead th {\n",
       "        text-align: right;\n",
       "    }\n",
       "</style>\n",
       "<table border=\"1\" class=\"dataframe\">\n",
       "  <thead>\n",
       "    <tr style=\"text-align: right;\">\n",
       "      <th></th>\n",
       "      <th>dimCount</th>\n",
       "      <th>scores</th>\n",
       "      <th>eps</th>\n",
       "    </tr>\n",
       "  </thead>\n",
       "  <tbody>\n",
       "    <tr>\n",
       "      <th>1</th>\n",
       "      <td>1</td>\n",
       "      <td>0.931335,0.932748,1,1,1,0.959922,0.909124,1,1,...</td>\n",
       "      <td>0.02,0.0288,0.148602,0.123835,0.103196,0.02,0....</td>\n",
       "    </tr>\n",
       "    <tr>\n",
       "      <th>2</th>\n",
       "      <td>2</td>\n",
       "      <td>0.908069,0,0.972901,0.941415,0,1,0.937807,0.90...</td>\n",
       "      <td>0.02,4.07407e-12,0.02,0.02,4.07407e-12,0.14860...</td>\n",
       "    </tr>\n",
       "    <tr>\n",
       "      <th>3</th>\n",
       "      <td>3</td>\n",
       "      <td>1,0,0,0.94027,0.955859,0.936421,0,0.951076,0.9...</td>\n",
       "      <td>0.123835,4.07407e-12,4.07407e-12,0.02,0.02,0.0...</td>\n",
       "    </tr>\n",
       "    <tr>\n",
       "      <th>4</th>\n",
       "      <td>4</td>\n",
       "      <td>1,0,1,0,0,0,0.976831,0,0,0,0,0,1,0,0,0.964688,...</td>\n",
       "      <td>0.0288,4.07407e-12,0.0597197,4.07407e-12,4.074...</td>\n",
       "    </tr>\n",
       "    <tr>\n",
       "      <th>5</th>\n",
       "      <td>5</td>\n",
       "      <td>0,1,0,0,0,0,0,0,0,0,0,0,0</td>\n",
       "      <td>4.07407e-12,0.0716636,4.07407e-12,4.07407e-12,...</td>\n",
       "    </tr>\n",
       "  </tbody>\n",
       "</table>\n",
       "</div>"
      ],
      "text/plain": [
       "   dimCount                                             scores  \\\n",
       "1         1  0.931335,0.932748,1,1,1,0.959922,0.909124,1,1,...   \n",
       "2         2  0.908069,0,0.972901,0.941415,0,1,0.937807,0.90...   \n",
       "3         3  1,0,0,0.94027,0.955859,0.936421,0,0.951076,0.9...   \n",
       "4         4  1,0,1,0,0,0,0.976831,0,0,0,0,0,1,0,0,0.964688,...   \n",
       "5         5                          0,1,0,0,0,0,0,0,0,0,0,0,0   \n",
       "\n",
       "                                                 eps  \n",
       "1  0.02,0.0288,0.148602,0.123835,0.103196,0.02,0....  \n",
       "2  0.02,4.07407e-12,0.02,0.02,4.07407e-12,0.14860...  \n",
       "3  0.123835,4.07407e-12,4.07407e-12,0.02,0.02,0.0...  \n",
       "4  0.0288,4.07407e-12,0.0597197,4.07407e-12,4.074...  \n",
       "5  4.07407e-12,0.0716636,4.07407e-12,4.07407e-12,...  "
      ]
     },
     "execution_count": 5,
     "metadata": {},
     "output_type": "execute_result"
    }
   ],
   "source": [
    "df.head(30)"
   ]
  },
  {
   "cell_type": "code",
   "execution_count": 6,
   "metadata": {},
   "outputs": [],
   "source": [
    "df['scores'] = df['scores'].map(lambda a: a.split(','))\n",
    "df['eps'] = df['eps'].map(lambda a: a.split(','))"
   ]
  },
  {
   "cell_type": "code",
   "execution_count": 7,
   "metadata": {},
   "outputs": [],
   "source": [
    "df['scores'] = df['scores'].map(lambda a: np.array(a).astype(float))\n",
    "df['eps'] = df['eps'].map(lambda a: np.array(a).astype(float))"
   ]
  },
  {
   "cell_type": "code",
   "execution_count": 8,
   "metadata": {},
   "outputs": [
    {
     "data": {
      "text/html": [
       "<div>\n",
       "<style scoped>\n",
       "    .dataframe tbody tr th:only-of-type {\n",
       "        vertical-align: middle;\n",
       "    }\n",
       "\n",
       "    .dataframe tbody tr th {\n",
       "        vertical-align: top;\n",
       "    }\n",
       "\n",
       "    .dataframe thead th {\n",
       "        text-align: right;\n",
       "    }\n",
       "</style>\n",
       "<table border=\"1\" class=\"dataframe\">\n",
       "  <thead>\n",
       "    <tr style=\"text-align: right;\">\n",
       "      <th></th>\n",
       "      <th>dimCount</th>\n",
       "      <th>scores</th>\n",
       "      <th>eps</th>\n",
       "    </tr>\n",
       "  </thead>\n",
       "  <tbody>\n",
       "    <tr>\n",
       "      <th>1</th>\n",
       "      <td>1</td>\n",
       "      <td>[0.931335, 0.932748, 1.0, 1.0, 1.0, 0.959922, ...</td>\n",
       "      <td>[0.02, 0.0288, 0.148602, 0.123835, 0.103196, 0...</td>\n",
       "    </tr>\n",
       "    <tr>\n",
       "      <th>2</th>\n",
       "      <td>2</td>\n",
       "      <td>[0.908069, 0.0, 0.972901, 0.941415, 0.0, 1.0, ...</td>\n",
       "      <td>[0.02, 4.07407e-12, 0.02, 0.02, 4.07407e-12, 0...</td>\n",
       "    </tr>\n",
       "    <tr>\n",
       "      <th>3</th>\n",
       "      <td>3</td>\n",
       "      <td>[1.0, 0.0, 0.0, 0.94027, 0.955859, 0.936421, 0...</td>\n",
       "      <td>[0.123835, 4.07407e-12, 4.07407e-12, 0.02, 0.0...</td>\n",
       "    </tr>\n",
       "    <tr>\n",
       "      <th>4</th>\n",
       "      <td>4</td>\n",
       "      <td>[1.0, 0.0, 1.0, 0.0, 0.0, 0.0, 0.976831, 0.0, ...</td>\n",
       "      <td>[0.0288, 4.07407e-12, 0.0597197, 4.07407e-12, ...</td>\n",
       "    </tr>\n",
       "    <tr>\n",
       "      <th>5</th>\n",
       "      <td>5</td>\n",
       "      <td>[0.0, 1.0, 0.0, 0.0, 0.0, 0.0, 0.0, 0.0, 0.0, ...</td>\n",
       "      <td>[4.07407e-12, 0.0716636, 4.07407e-12, 4.07407e...</td>\n",
       "    </tr>\n",
       "  </tbody>\n",
       "</table>\n",
       "</div>"
      ],
      "text/plain": [
       "   dimCount                                             scores  \\\n",
       "1         1  [0.931335, 0.932748, 1.0, 1.0, 1.0, 0.959922, ...   \n",
       "2         2  [0.908069, 0.0, 0.972901, 0.941415, 0.0, 1.0, ...   \n",
       "3         3  [1.0, 0.0, 0.0, 0.94027, 0.955859, 0.936421, 0...   \n",
       "4         4  [1.0, 0.0, 1.0, 0.0, 0.0, 0.0, 0.976831, 0.0, ...   \n",
       "5         5  [0.0, 1.0, 0.0, 0.0, 0.0, 0.0, 0.0, 0.0, 0.0, ...   \n",
       "\n",
       "                                                 eps  \n",
       "1  [0.02, 0.0288, 0.148602, 0.123835, 0.103196, 0...  \n",
       "2  [0.02, 4.07407e-12, 0.02, 0.02, 4.07407e-12, 0...  \n",
       "3  [0.123835, 4.07407e-12, 4.07407e-12, 0.02, 0.0...  \n",
       "4  [0.0288, 4.07407e-12, 0.0597197, 4.07407e-12, ...  \n",
       "5  [4.07407e-12, 0.0716636, 4.07407e-12, 4.07407e...  "
      ]
     },
     "execution_count": 8,
     "metadata": {},
     "output_type": "execute_result"
    }
   ],
   "source": [
    "df.head()"
   ]
  },
  {
   "cell_type": "code",
   "execution_count": 9,
   "metadata": {},
   "outputs": [
    {
     "data": {
      "image/png": "[encoded data removed]",
      "text/plain": [
       "<Figure size 1080x1080 with 8 Axes>"
      ]
     },
     "metadata": {
      "needs_background": "light"
     },
     "output_type": "display_data"
    }
   ],
   "source": [
    "nEntries = df.shape[0]\n",
    "plotsPerRow = 4\n",
    "if plotsPerRow > nEntries:\n",
    "    plotsPerRow = nEntries\n",
    "\n",
    "fig, axs = plt.subplots(int(nEntries / plotsPerRow + 1), plotsPerRow, figsize=(15, 15))\n",
    "\n",
    "i = 0\n",
    "\n",
    "for index, row in df.T.iteritems():\n",
    "    axs[int(i / plotsPerRow), int(i % plotsPerRow)].hist(row['scores'], bins=30)\n",
    "\n",
    "    i = i + 1"
   ]
  },
  {
   "cell_type": "code",
   "execution_count": 10,
   "metadata": {},
   "outputs": [
    {
     "data": {
      "text/plain": [
       "(array([8.5530e+03, 2.8364e+04, 2.8130e+03, 1.6380e+03, 1.0190e+03,\n",
       "        1.3380e+03, 1.8760e+03, 7.0000e+01, 2.1140e+03, 3.4980e+03,\n",
       "        2.9000e+01, 3.8030e+03, 2.3000e+01, 3.6980e+03, 8.0000e+00,\n",
       "        8.0000e+00, 1.9580e+03, 1.0000e+00, 6.0000e+00, 8.0000e+00,\n",
       "        2.0830e+03, 6.0000e+00, 2.0000e+00, 4.0000e+00, 3.0450e+03,\n",
       "        1.0000e+00, 2.0000e+00, 5.0000e+00, 3.6200e+02, 0.0000e+00,\n",
       "        0.0000e+00, 0.0000e+00, 0.0000e+00, 0.0000e+00, 9.1000e+01,\n",
       "        0.0000e+00, 0.0000e+00, 0.0000e+00, 0.0000e+00, 0.0000e+00,\n",
       "        0.0000e+00, 4.0000e+00, 0.0000e+00, 0.0000e+00, 0.0000e+00,\n",
       "        0.0000e+00, 0.0000e+00, 0.0000e+00, 0.0000e+00, 2.0000e+00]),\n",
       " array([4.0740700e-12, 1.0649340e-02, 2.1298680e-02, 3.1948020e-02,\n",
       "        4.2597360e-02, 5.3246700e-02, 6.3896040e-02, 7.4545380e-02,\n",
       "        8.5194720e-02, 9.5844060e-02, 1.0649340e-01, 1.1714274e-01,\n",
       "        1.2779208e-01, 1.3844142e-01, 1.4909076e-01, 1.5974010e-01,\n",
       "        1.7038944e-01, 1.8103878e-01, 1.9168812e-01, 2.0233746e-01,\n",
       "        2.1298680e-01, 2.2363614e-01, 2.3428548e-01, 2.4493482e-01,\n",
       "        2.5558416e-01, 2.6623350e-01, 2.7688284e-01, 2.8753218e-01,\n",
       "        2.9818152e-01, 3.0883086e-01, 3.1948020e-01, 3.3012954e-01,\n",
       "        3.4077888e-01, 3.5142822e-01, 3.6207756e-01, 3.7272690e-01,\n",
       "        3.8337624e-01, 3.9402558e-01, 4.0467492e-01, 4.1532426e-01,\n",
       "        4.2597360e-01, 4.3662294e-01, 4.4727228e-01, 4.5792162e-01,\n",
       "        4.6857096e-01, 4.7922030e-01, 4.8986964e-01, 5.0051898e-01,\n",
       "        5.1116832e-01, 5.2181766e-01, 5.3246700e-01]),\n",
       " <BarContainer object of 50 artists>)"
      ]
     },
     "execution_count": 10,
     "metadata": {},
     "output_type": "execute_result"
    },
    {
     "data": {
      "image/png": "[encoded data removed]",
      "text/plain": [
       "<Figure size 432x288 with 1 Axes>"
      ]
     },
     "metadata": {
      "needs_background": "light"
     },
     "output_type": "display_data"
    }
   ],
   "source": [
    "epsilons = []\n",
    "\n",
    "for date, eps in df.iterrows():\n",
    "    epsilons.extend(eps['eps'])\n",
    "\n",
    "plt.hist(epsilons, bins=50)"
   ]
  },
  {
   "cell_type": "code",
   "execution_count": 11,
   "metadata": {},
   "outputs": [
    {
     "name": "stdout",
     "output_type": "stream",
     "text": [
      "Total Scores: 66432\n"
     ]
    }
   ],
   "source": [
    "counter = 0\n",
    "\n",
    "for scores in df['scores']:\n",
    "    counter = counter + len(scores)\n",
    "\n",
    "print(\"Total Scores: \" + str(counter))"
   ]
  },
  {
   "cell_type": "code",
   "execution_count": 12,
   "metadata": {},
   "outputs": [
    {
     "name": "stdout",
     "output_type": "stream",
     "text": [
      "Average score: 0.8496784604097423\n"
     ]
    }
   ],
   "source": [
    "sum = 0\n",
    "\n",
    "for scores in df['scores']:\n",
    "    sum = sum + scores.sum()\n",
    "\n",
    "print(\"Average score: \" + str(sum / counter))"
   ]
  }
 ],
 "metadata": {
  "kernelspec": {
   "display_name": "Python 3.9.12 ('base')",
   "language": "python",
   "name": "python3"
  },
  "language_info": {
   "codemirror_mode": {
    "name": "ipython",
    "version": 3
   },
   "file_extension": ".py",
   "mimetype": "text/x-python",
   "name": "python",
   "nbconvert_exporter": "python",
   "pygments_lexer": "ipython3",
   "version": "3.9.12"
  },
  "orig_nbformat": 4,
  "vscode": {
   "interpreter": {
    "hash": "844183552d7c3760f32bc1861df9521bcd1c65e774f23bfdea33cc891f184b11"
   }
  }
 },
 "nbformat": 4,
 "nbformat_minor": 2
}
