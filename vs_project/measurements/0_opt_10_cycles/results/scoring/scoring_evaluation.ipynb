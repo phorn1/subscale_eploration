{
 "cells": [
  {
   "cell_type": "code",
   "execution_count": 1,
   "metadata": {},
   "outputs": [],
   "source": [
    "import pandas as pd\n",
    "import matplotlib.pyplot as plt\n",
    "import numpy as np"
   ]
  },
  {
   "cell_type": "code",
   "execution_count": 2,
   "metadata": {},
   "outputs": [
    {
     "data": {
      "text/html": [
       "<div>\n",
       "<style scoped>\n",
       "    .dataframe tbody tr th:only-of-type {\n",
       "        vertical-align: middle;\n",
       "    }\n",
       "\n",
       "    .dataframe tbody tr th {\n",
       "        vertical-align: top;\n",
       "    }\n",
       "\n",
       "    .dataframe thead th {\n",
       "        text-align: right;\n",
       "    }\n",
       "</style>\n",
       "<table border=\"1\" class=\"dataframe\">\n",
       "  <thead>\n",
       "    <tr style=\"text-align: right;\">\n",
       "      <th></th>\n",
       "      <th>dimCount</th>\n",
       "      <th>scores</th>\n",
       "      <th>eps</th>\n",
       "    </tr>\n",
       "  </thead>\n",
       "  <tbody>\n",
       "    <tr>\n",
       "      <th>0</th>\n",
       "      <td>0</td>\n",
       "      <td>0</td>\n",
       "      <td>0</td>\n",
       "    </tr>\n",
       "    <tr>\n",
       "      <th>1</th>\n",
       "      <td>1</td>\n",
       "      <td>0.898209,1,0.483995,0.680207,1,1,0.782141,1,1,...</td>\n",
       "      <td>0.0550377,0.123835,0.123835,0.123835,0.02,0.02...</td>\n",
       "    </tr>\n",
       "    <tr>\n",
       "      <th>2</th>\n",
       "      <td>2</td>\n",
       "      <td>1,1,1,1,1,0.952817,0.914202,1,1,1,1,1,1,1,1,0....</td>\n",
       "      <td>0.02,0.02,0.02,0.123835,0.016,0.02,0.02,0.016,...</td>\n",
       "    </tr>\n",
       "    <tr>\n",
       "      <th>3</th>\n",
       "      <td>3</td>\n",
       "      <td>1,1,1,1,1,1,1,1,1,1,1,1,1,1,1,1,0,0.985176,1,0...</td>\n",
       "      <td>0.0128,0.02,0.02,0.02,0.02,0.02,0.02,0.02,0.01...</td>\n",
       "    </tr>\n",
       "    <tr>\n",
       "      <th>4</th>\n",
       "      <td>4</td>\n",
       "      <td>1,1,1,0,1,1,1,1,1,1,1,1,1,1,1,1,1,1,0,1,1,0,1,...</td>\n",
       "      <td>0.02,0.02,0.02,0.00214748,0.016,0.02,0.02,0.02...</td>\n",
       "    </tr>\n",
       "  </tbody>\n",
       "</table>\n",
       "</div>"
      ],
      "text/plain": [
       "   dimCount                                             scores  \\\n",
       "0         0                                                  0   \n",
       "1         1  0.898209,1,0.483995,0.680207,1,1,0.782141,1,1,...   \n",
       "2         2  1,1,1,1,1,0.952817,0.914202,1,1,1,1,1,1,1,1,0....   \n",
       "3         3  1,1,1,1,1,1,1,1,1,1,1,1,1,1,1,1,0,0.985176,1,0...   \n",
       "4         4  1,1,1,0,1,1,1,1,1,1,1,1,1,1,1,1,1,1,0,1,1,0,1,...   \n",
       "\n",
       "                                                 eps  \n",
       "0                                                  0  \n",
       "1  0.0550377,0.123835,0.123835,0.123835,0.02,0.02...  \n",
       "2  0.02,0.02,0.02,0.123835,0.016,0.02,0.02,0.016,...  \n",
       "3  0.0128,0.02,0.02,0.02,0.02,0.02,0.02,0.02,0.01...  \n",
       "4  0.02,0.02,0.02,0.00214748,0.016,0.02,0.02,0.02...  "
      ]
     },
     "execution_count": 2,
     "metadata": {},
     "output_type": "execute_result"
    }
   ],
   "source": [
    "df = pd.read_csv(\"scores.txt\", names=['dimCount', 'scores', 'eps'], sep=\";\")\n",
    "\n",
    "df.head()"
   ]
  },
  {
   "cell_type": "code",
   "execution_count": 3,
   "metadata": {},
   "outputs": [
    {
     "name": "stdout",
     "output_type": "stream",
     "text": [
      "<class 'pandas.core.frame.DataFrame'>\n",
      "RangeIndex: 500 entries, 0 to 499\n",
      "Data columns (total 3 columns):\n",
      " #   Column    Non-Null Count  Dtype \n",
      "---  ------    --------------  ----- \n",
      " 0   dimCount  500 non-null    int64 \n",
      " 1   scores    500 non-null    object\n",
      " 2   eps       500 non-null    object\n",
      "dtypes: int64(1), object(2)\n",
      "memory usage: 11.8+ KB\n"
     ]
    }
   ],
   "source": [
    "df.info()"
   ]
  },
  {
   "cell_type": "code",
   "execution_count": 4,
   "metadata": {},
   "outputs": [],
   "source": [
    "df['scores'] = df['scores'][df['scores'] != '0']\n",
    "df['eps'] = df['eps'][df['eps'] != '0']\n",
    "df = df.dropna()"
   ]
  },
  {
   "cell_type": "code",
   "execution_count": 5,
   "metadata": {},
   "outputs": [
    {
     "data": {
      "text/html": [
       "<div>\n",
       "<style scoped>\n",
       "    .dataframe tbody tr th:only-of-type {\n",
       "        vertical-align: middle;\n",
       "    }\n",
       "\n",
       "    .dataframe tbody tr th {\n",
       "        vertical-align: top;\n",
       "    }\n",
       "\n",
       "    .dataframe thead th {\n",
       "        text-align: right;\n",
       "    }\n",
       "</style>\n",
       "<table border=\"1\" class=\"dataframe\">\n",
       "  <thead>\n",
       "    <tr style=\"text-align: right;\">\n",
       "      <th></th>\n",
       "      <th>dimCount</th>\n",
       "      <th>scores</th>\n",
       "      <th>eps</th>\n",
       "    </tr>\n",
       "  </thead>\n",
       "  <tbody>\n",
       "    <tr>\n",
       "      <th>1</th>\n",
       "      <td>1</td>\n",
       "      <td>0.898209,1,0.483995,0.680207,1,1,0.782141,1,1,...</td>\n",
       "      <td>0.0550377,0.123835,0.123835,0.123835,0.02,0.02...</td>\n",
       "    </tr>\n",
       "    <tr>\n",
       "      <th>2</th>\n",
       "      <td>2</td>\n",
       "      <td>1,1,1,1,1,0.952817,0.914202,1,1,1,1,1,1,1,1,0....</td>\n",
       "      <td>0.02,0.02,0.02,0.123835,0.016,0.02,0.02,0.016,...</td>\n",
       "    </tr>\n",
       "    <tr>\n",
       "      <th>3</th>\n",
       "      <td>3</td>\n",
       "      <td>1,1,1,1,1,1,1,1,1,1,1,1,1,1,1,1,0,0.985176,1,0...</td>\n",
       "      <td>0.0128,0.02,0.02,0.02,0.02,0.02,0.02,0.02,0.01...</td>\n",
       "    </tr>\n",
       "    <tr>\n",
       "      <th>4</th>\n",
       "      <td>4</td>\n",
       "      <td>1,1,1,0,1,1,1,1,1,1,1,1,1,1,1,1,1,1,0,1,1,0,1,...</td>\n",
       "      <td>0.02,0.02,0.02,0.00214748,0.016,0.02,0.02,0.02...</td>\n",
       "    </tr>\n",
       "    <tr>\n",
       "      <th>5</th>\n",
       "      <td>5</td>\n",
       "      <td>1,1,1,1,1,0,1,1,1,1,1,1,1,1,1,1,1,1,1,1,1,1,1,...</td>\n",
       "      <td>0.02,0.016,0.02,0.02,0.02,0.00214748,0.02,0.02...</td>\n",
       "    </tr>\n",
       "    <tr>\n",
       "      <th>6</th>\n",
       "      <td>6</td>\n",
       "      <td>1,1,1,1,1,1,1,1,1,1,1,0,1,1,1,1,1,1,1,1,1,1,1,...</td>\n",
       "      <td>0.02,0.02,0.02,0.016,0.02,0.02,0.02,0.02,0.016...</td>\n",
       "    </tr>\n",
       "    <tr>\n",
       "      <th>7</th>\n",
       "      <td>7</td>\n",
       "      <td>1,1,1,1,1,1,1,1,1,1,1,1,1,1,1,1,1,1,1,1,1,1,1,...</td>\n",
       "      <td>0.02,0.02,0.016,0.02,0.02,0.0128,0.02,0.02,0.0...</td>\n",
       "    </tr>\n",
       "    <tr>\n",
       "      <th>8</th>\n",
       "      <td>8</td>\n",
       "      <td>1,1,1,1,1,1,1</td>\n",
       "      <td>0.02,0.016,0.016,0.02,0.02,0.0128,0.02</td>\n",
       "    </tr>\n",
       "  </tbody>\n",
       "</table>\n",
       "</div>"
      ],
      "text/plain": [
       "   dimCount                                             scores  \\\n",
       "1         1  0.898209,1,0.483995,0.680207,1,1,0.782141,1,1,...   \n",
       "2         2  1,1,1,1,1,0.952817,0.914202,1,1,1,1,1,1,1,1,0....   \n",
       "3         3  1,1,1,1,1,1,1,1,1,1,1,1,1,1,1,1,0,0.985176,1,0...   \n",
       "4         4  1,1,1,0,1,1,1,1,1,1,1,1,1,1,1,1,1,1,0,1,1,0,1,...   \n",
       "5         5  1,1,1,1,1,0,1,1,1,1,1,1,1,1,1,1,1,1,1,1,1,1,1,...   \n",
       "6         6  1,1,1,1,1,1,1,1,1,1,1,0,1,1,1,1,1,1,1,1,1,1,1,...   \n",
       "7         7  1,1,1,1,1,1,1,1,1,1,1,1,1,1,1,1,1,1,1,1,1,1,1,...   \n",
       "8         8                                      1,1,1,1,1,1,1   \n",
       "\n",
       "                                                 eps  \n",
       "1  0.0550377,0.123835,0.123835,0.123835,0.02,0.02...  \n",
       "2  0.02,0.02,0.02,0.123835,0.016,0.02,0.02,0.016,...  \n",
       "3  0.0128,0.02,0.02,0.02,0.02,0.02,0.02,0.02,0.01...  \n",
       "4  0.02,0.02,0.02,0.00214748,0.016,0.02,0.02,0.02...  \n",
       "5  0.02,0.016,0.02,0.02,0.02,0.00214748,0.02,0.02...  \n",
       "6  0.02,0.02,0.02,0.016,0.02,0.02,0.02,0.02,0.016...  \n",
       "7  0.02,0.02,0.016,0.02,0.02,0.0128,0.02,0.02,0.0...  \n",
       "8             0.02,0.016,0.016,0.02,0.02,0.0128,0.02  "
      ]
     },
     "execution_count": 5,
     "metadata": {},
     "output_type": "execute_result"
    }
   ],
   "source": [
    "df.head(30)"
   ]
  },
  {
   "cell_type": "code",
   "execution_count": 6,
   "metadata": {},
   "outputs": [],
   "source": [
    "df['scores'] = df['scores'].map(lambda a: a.split(','))\n",
    "df['eps'] = df['eps'].map(lambda a: a.split(','))"
   ]
  },
  {
   "cell_type": "code",
   "execution_count": 7,
   "metadata": {},
   "outputs": [],
   "source": [
    "df['scores'] = df['scores'].map(lambda a: np.array(a).astype(float))\n",
    "df['eps'] = df['eps'].map(lambda a: np.array(a).astype(float))"
   ]
  },
  {
   "cell_type": "code",
   "execution_count": 8,
   "metadata": {},
   "outputs": [
    {
     "data": {
      "text/html": [
       "<div>\n",
       "<style scoped>\n",
       "    .dataframe tbody tr th:only-of-type {\n",
       "        vertical-align: middle;\n",
       "    }\n",
       "\n",
       "    .dataframe tbody tr th {\n",
       "        vertical-align: top;\n",
       "    }\n",
       "\n",
       "    .dataframe thead th {\n",
       "        text-align: right;\n",
       "    }\n",
       "</style>\n",
       "<table border=\"1\" class=\"dataframe\">\n",
       "  <thead>\n",
       "    <tr style=\"text-align: right;\">\n",
       "      <th></th>\n",
       "      <th>dimCount</th>\n",
       "      <th>scores</th>\n",
       "      <th>eps</th>\n",
       "    </tr>\n",
       "  </thead>\n",
       "  <tbody>\n",
       "    <tr>\n",
       "      <th>1</th>\n",
       "      <td>1</td>\n",
       "      <td>[0.898209, 1.0, 0.483995, 0.680207, 1.0, 1.0, ...</td>\n",
       "      <td>[0.0550377, 0.123835, 0.123835, 0.123835, 0.02...</td>\n",
       "    </tr>\n",
       "    <tr>\n",
       "      <th>2</th>\n",
       "      <td>2</td>\n",
       "      <td>[1.0, 1.0, 1.0, 1.0, 1.0, 0.952817, 0.914202, ...</td>\n",
       "      <td>[0.02, 0.02, 0.02, 0.123835, 0.016, 0.02, 0.02...</td>\n",
       "    </tr>\n",
       "    <tr>\n",
       "      <th>3</th>\n",
       "      <td>3</td>\n",
       "      <td>[1.0, 1.0, 1.0, 1.0, 1.0, 1.0, 1.0, 1.0, 1.0, ...</td>\n",
       "      <td>[0.0128, 0.02, 0.02, 0.02, 0.02, 0.02, 0.02, 0...</td>\n",
       "    </tr>\n",
       "    <tr>\n",
       "      <th>4</th>\n",
       "      <td>4</td>\n",
       "      <td>[1.0, 1.0, 1.0, 0.0, 1.0, 1.0, 1.0, 1.0, 1.0, ...</td>\n",
       "      <td>[0.02, 0.02, 0.02, 0.00214748, 0.016, 0.02, 0....</td>\n",
       "    </tr>\n",
       "    <tr>\n",
       "      <th>5</th>\n",
       "      <td>5</td>\n",
       "      <td>[1.0, 1.0, 1.0, 1.0, 1.0, 0.0, 1.0, 1.0, 1.0, ...</td>\n",
       "      <td>[0.02, 0.016, 0.02, 0.02, 0.02, 0.00214748, 0....</td>\n",
       "    </tr>\n",
       "  </tbody>\n",
       "</table>\n",
       "</div>"
      ],
      "text/plain": [
       "   dimCount                                             scores  \\\n",
       "1         1  [0.898209, 1.0, 0.483995, 0.680207, 1.0, 1.0, ...   \n",
       "2         2  [1.0, 1.0, 1.0, 1.0, 1.0, 0.952817, 0.914202, ...   \n",
       "3         3  [1.0, 1.0, 1.0, 1.0, 1.0, 1.0, 1.0, 1.0, 1.0, ...   \n",
       "4         4  [1.0, 1.0, 1.0, 0.0, 1.0, 1.0, 1.0, 1.0, 1.0, ...   \n",
       "5         5  [1.0, 1.0, 1.0, 1.0, 1.0, 0.0, 1.0, 1.0, 1.0, ...   \n",
       "\n",
       "                                                 eps  \n",
       "1  [0.0550377, 0.123835, 0.123835, 0.123835, 0.02...  \n",
       "2  [0.02, 0.02, 0.02, 0.123835, 0.016, 0.02, 0.02...  \n",
       "3  [0.0128, 0.02, 0.02, 0.02, 0.02, 0.02, 0.02, 0...  \n",
       "4  [0.02, 0.02, 0.02, 0.00214748, 0.016, 0.02, 0....  \n",
       "5  [0.02, 0.016, 0.02, 0.02, 0.02, 0.00214748, 0....  "
      ]
     },
     "execution_count": 8,
     "metadata": {},
     "output_type": "execute_result"
    }
   ],
   "source": [
    "df.head()"
   ]
  },
  {
   "cell_type": "code",
   "execution_count": 22,
   "metadata": {},
   "outputs": [
    {
     "data": {
      "image/png": "[encoded data removed]",
      "text/plain": [
       "<Figure size 1080x1080 with 12 Axes>"
      ]
     },
     "metadata": {
      "needs_background": "light"
     },
     "output_type": "display_data"
    }
   ],
   "source": [
    "nEntries = df.shape[0]\n",
    "\n",
    "fig, axs = plt.subplots(int(nEntries / 4 + 1), 4, figsize=(15, 15))\n",
    "\n",
    "i = 0\n",
    "\n",
    "for index, row in df.T.iteritems():\n",
    "    axs[int(i / 4), int(i % 4)].hist(row['scores'], bins=30)\n",
    "\n",
    "    i = i + 1"
   ]
  },
  {
   "cell_type": "code",
   "execution_count": 21,
   "metadata": {},
   "outputs": [
    {
     "data": {
      "text/plain": [
       "(array([2.20270e+04, 8.00000e+01, 2.20000e+02, 1.77200e+03, 9.00400e+03,\n",
       "        3.17720e+04, 3.70000e+01, 2.30242e+05, 4.82900e+03, 3.40000e+01,\n",
       "        9.26000e+02, 0.00000e+00, 2.60000e+01, 7.31000e+02, 4.80000e+01,\n",
       "        2.90000e+01, 9.13000e+02, 3.00000e+00, 3.00000e+01, 1.00400e+03,\n",
       "        0.00000e+00, 1.31000e+02, 4.10000e+01, 1.33200e+03, 0.00000e+00,\n",
       "        0.00000e+00, 0.00000e+00, 3.90000e+01, 1.85000e+03, 0.00000e+00,\n",
       "        0.00000e+00, 0.00000e+00, 0.00000e+00, 3.59000e+02, 2.18400e+03,\n",
       "        0.00000e+00, 0.00000e+00, 0.00000e+00, 0.00000e+00, 0.00000e+00,\n",
       "        0.00000e+00, 3.50000e+03, 0.00000e+00, 0.00000e+00, 0.00000e+00,\n",
       "        0.00000e+00, 0.00000e+00, 0.00000e+00, 0.00000e+00, 1.52560e+04]),\n",
       " array([0.00214748, 0.00458123, 0.00701498, 0.00944873, 0.01188248,\n",
       "        0.01431623, 0.01674998, 0.01918373, 0.02161748, 0.02405123,\n",
       "        0.02648498, 0.02891873, 0.03135248, 0.03378624, 0.03621999,\n",
       "        0.03865374, 0.04108749, 0.04352124, 0.04595499, 0.04838874,\n",
       "        0.05082249, 0.05325624, 0.05568999, 0.05812374, 0.06055749,\n",
       "        0.06299124, 0.06542499, 0.06785874, 0.07029249, 0.07272624,\n",
       "        0.07515999, 0.07759374, 0.08002749, 0.08246124, 0.08489499,\n",
       "        0.08732874, 0.08976249, 0.09219624, 0.09463   , 0.09706375,\n",
       "        0.0994975 , 0.10193125, 0.104365  , 0.10679875, 0.1092325 ,\n",
       "        0.11166625, 0.1141    , 0.11653375, 0.1189675 , 0.12140125,\n",
       "        0.123835  ]),\n",
       " <BarContainer object of 50 artists>)"
      ]
     },
     "execution_count": 21,
     "metadata": {},
     "output_type": "execute_result"
    },
    {
     "data": {
      "image/png": "[encoded data removed]",
      "text/plain": [
       "<Figure size 432x288 with 1 Axes>"
      ]
     },
     "metadata": {
      "needs_background": "light"
     },
     "output_type": "display_data"
    }
   ],
   "source": [
    "epsilons = []\n",
    "\n",
    "for date, eps in df.iterrows():\n",
    "    epsilons.extend(eps['eps'])\n",
    "\n",
    "plt.hist(epsilons, bins=50)"
   ]
  },
  {
   "cell_type": "code",
   "execution_count": null,
   "metadata": {},
   "outputs": [],
   "source": []
  }
 ],
 "metadata": {
  "kernelspec": {
   "display_name": "Python 3.9.12 ('base')",
   "language": "python",
   "name": "python3"
  },
  "language_info": {
   "codemirror_mode": {
    "name": "ipython",
    "version": 3
   },
   "file_extension": ".py",
   "mimetype": "text/x-python",
   "name": "python",
   "nbconvert_exporter": "python",
   "pygments_lexer": "ipython3",
   "version": "3.9.12"
  },
  "orig_nbformat": 4,
  "vscode": {
   "interpreter": {
    "hash": "844183552d7c3760f32bc1861df9521bcd1c65e774f23bfdea33cc891f184b11"
   }
  }
 },
 "nbformat": 4,
 "nbformat_minor": 2
}
